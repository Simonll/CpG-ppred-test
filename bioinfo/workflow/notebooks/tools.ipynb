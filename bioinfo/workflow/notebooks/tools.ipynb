{
 "cells": [
  {
   "cell_type": "code",
   "execution_count": null,
   "id": "154202c0-f780-40ab-9b0d-e2c0a580f8b1",
   "metadata": {},
   "outputs": [],
   "source": [
    "!which python"
   ]
  },
  {
   "cell_type": "code",
   "execution_count": null,
   "id": "b3a409d4-ff38-448a-b5d9-f548956c44c4",
   "metadata": {},
   "outputs": [],
   "source": [
    "%load_ext autoreload\n",
    "%autoreload 2\n",
    "from IPython.core.interactiveshell import InteractiveShell"
   ]
  },
  {
   "cell_type": "code",
   "execution_count": null,
   "id": "0256fe3d-f5a9-45a8-aa4b-cb6cc36e6ee7",
   "metadata": {},
   "outputs": [],
   "source": [
    "# basic packages\n",
    "import os\n",
    "import re\n",
    "import sys\n",
    "import datetime\n",
    "from typing import List, Dict, Tuple, Optional, Any\n",
    "from itertools import combinations\n",
    "from pathlib import Path\n",
    "import glob\n",
    "#import yaml\n",
    "import tqdm\n",
    "import multiprocessing as mp\n",
    "from itertools import combinations, product"
   ]
  },
  {
   "cell_type": "code",
   "execution_count": null,
   "id": "9eb0137e-fa1d-48c1-a328-76ae43227cf8",
   "metadata": {},
   "outputs": [],
   "source": [
    "# data science\n",
    "import pandas as pd\n",
    "import numpy as np\n",
    "import matplotlib.pyplot as plt"
   ]
  },
  {
   "cell_type": "code",
   "execution_count": null,
   "id": "9ba295ea-077f-44dd-85f6-1b64b46714ea",
   "metadata": {},
   "outputs": [],
   "source": [
    "# bioinformatics\n",
    "import pandas as pd\n",
    "from Bio.Seq import MutableSeq\n",
    "from Bio import SeqIO\n",
    "from Bio.SeqRecord import SeqRecord\n",
    "from Bio.Align import MultipleSeqAlignment"
   ]
  },
  {
   "cell_type": "code",
   "execution_count": null,
   "id": "0ba9aeb7-9052-4671-ba7d-54cb73deef44",
   "metadata": {},
   "outputs": [],
   "source": [
    "ROOT_dir = Path(os.path.abspath(os.path.join(Path(\"../\")))).__str__()\n",
    "if ROOT_dir not in sys.path:\n",
    "    sys.path.append(ROOT_dir)"
   ]
  },
  {
   "cell_type": "code",
   "execution_count": null,
   "id": "1be030d0-dea0-485a-899a-c2640c1a4025",
   "metadata": {},
   "outputs": [],
   "source": [
    "SCRIPTS_dir = ROOT_dir+ \"/scripts/\"\n",
    "if SCRIPTS_dir not in sys.path:\n",
    "    sys.path.append(SCRIPTS_dir)"
   ]
  },
  {
   "cell_type": "code",
   "execution_count": null,
   "id": "1968cb2e-e231-4c92-a732-30b6020a505e",
   "metadata": {},
   "outputs": [],
   "source": [
    "print(sys.path)"
   ]
  },
  {
   "cell_type": "code",
   "execution_count": null,
   "id": "ae0d66e8-7968-45c3-8af2-787952d2e88a",
   "metadata": {},
   "outputs": [],
   "source": [
    "from serialize_mapping_ import read_mapping, wrapper_read_site_mapping"
   ]
  },
  {
   "cell_type": "code",
   "execution_count": null,
   "id": "2f8a92e5-5032-4925-8a2a-c0ebb380535a",
   "metadata": {},
   "outputs": [],
   "source": [
    "mapping: str = \"(((Procavia_T:0.120422:T,Loxodonta_T:0.0603659:T)_T:0.0425276:T,Echinops_T:0.226539:T)_T:0.0319915:T,(Dasypus_T:0.101122:T,Choloepus_T:0.0851804:T)_T:0.0498077:T,(((Equus_T:0.0779582:T,(Vicugna_C:0.0907068:C:0.00917933:T,(Sus_T:0.119916:T,(Tursiops_T:0.0426887:T,(Ovis_T:0.0145964:T,Bos_T:0.0304041:T)_T:0.0727613:T)_T:0.00625514:T)_T:0.0122151:T)_T:0.0250573:T)_T:0.00566655:T,((Pteropus_T:0.106978:T,Myotis_T:0.118461:T)_T:0.0114075:T,((Sorex_T:0.198182:T,Erinaceus_T:0.174272:T)_T:0.0430721:T,(Felis_T:0.0839751:T,(Canis_T:0.0699605:T,(Ailuropoda_T:0.052623:T,Mustela_T:0.103226:T)_T:0.0185596:T)_T:0.0103581:T)_T:0.0279674:T)_T:0.00335302:T)_T:0.00079142:T)_T:0.0110501:T,(((Otolemur_T:0.158654:T,Microcebus_C:0.145337:C:0.0178805:T)_T:0.0504843:T,(Tarsius_T:0.330875:T,(((Nomascus_T:0.0264005:T,(Pongo_T:0.013838:T,((Pan_T:0.000132753:T,Homo_T:0.00809315:T)_T:0.00416328:T,Gorilla_T:0.0077017:T)_T:0.00629409:T)_T:0.000696043:T)_T:0.00146144:T,((Papio_T:0.0182087:T,Macaca_T:0.0019362:T)_T:0.00258712:T,Chlorocebu_T:0.00882445:T)_T:0.0191547:T)_T:0.0248701:T,Callithrix_T:0.0475918:T)_T:0.0516841:T)_T:0.00522412:T)_T:0.0187992:T,(Tupaia_T:0.210967:T,((Oryctolagu_T:0.2021:T,Ochotona_T:0.209093:T)_T:0.165137:T,(Ictidomys_A:0.0627069:A:0.0563752:T,(Cavia_T:0.189718:T,((Rattus_T:0.0571824:T,Mus_T:0.0839931:T)_T:0.193646:T,Dipodomys_T:0.149537:T)_T:0.0346516:T)_T:0.00956086:T)_T:0.0328611:T)_T:0.0102136:T)_T:0.0081004:T)_T:0.0277304:T)_T:0.022273:T)_T;\""
   ]
  },
  {
   "cell_type": "code",
   "execution_count": null,
   "id": "04470d80-043d-4683-bd2e-e895aab57adc",
   "metadata": {},
   "outputs": [],
   "source": [
    "read_mapping(mapping=mapping, metadata={})"
   ]
  },
  {
   "cell_type": "code",
   "execution_count": null,
   "id": "393f4c4c-0d66-435e-9b90-8bcb0f0f982d",
   "metadata": {},
   "outputs": [],
   "source": [
    "mapping_a: pd.DataFrame = wrapper_read_site_mapping(input=ROOT_dir + \"/data/mappings/WDR91-GTRG4-A_0.map\" , metadata={\"mapping_type\":0})\n",
    "mapping_b: pd.DataFrame = wrapper_read_site_mapping(input=ROOT_dir + \"/data/mappings/WDR91-GTRG4-A_1.map\" , metadata={\"mapping_type\":0})"
   ]
  },
  {
   "cell_type": "code",
   "execution_count": null,
   "id": "0ff06563-0c7d-4dde-9027-4ee073f0ec6a",
   "metadata": {},
   "outputs": [],
   "source": [
    "mapping_a"
   ]
  },
  {
   "cell_type": "code",
   "execution_count": null,
   "id": "6547b19d-d6b3-42e7-a6a5-f89fb46594ce",
   "metadata": {},
   "outputs": [],
   "source": [
    "from scripts.generate_two_sites_mapping_ import generate_two_sites_mapping"
   ]
  },
  {
   "cell_type": "code",
   "execution_count": null,
   "id": "94290e34-d7da-4357-b69d-0d309ea500ce",
   "metadata": {},
   "outputs": [],
   "source": [
    "input_dir=ROOT_dir+\"/data/mappings/\"\n",
    "pattern='WDR91-GTRG4-A_*.pickle'\n",
    "generate_two_sites_mapping(input_dir=input_dir,\\\n",
    "                           pattern=pattern,list_of_paired_sites=\"|\".join([\"0-1\",\"1-2\",\"2-3\"]),\\\n",
    "                           output_dir=\"/tmp/\")"
   ]
  },
  {
   "cell_type": "code",
   "execution_count": null,
   "id": "ec4329a4-f0d7-4840-8a46-801b9028da65",
   "metadata": {},
   "outputs": [],
   "source": [
    "from generate_two_sites_mapping_ import generate_map_to_list_of_tuples"
   ]
  },
  {
   "cell_type": "code",
   "execution_count": null,
   "id": "5d42d93f-a822-43be-aaca-4c9d0c2bf4bb",
   "metadata": {},
   "outputs": [],
   "source": [
    "mapping_a[\"list_of_tuples\"] = mapping_a[\"mapping\"].apply(\n",
    "            lambda x: generate_map_to_list_of_tuples(x)\n",
    "        )\n",
    "mapping_b[\"list_of_tuples\"] = mapping_b[\"mapping\"].apply(\n",
    "            lambda x: generate_map_to_list_of_tuples(x)\n",
    "        )"
   ]
  },
  {
   "cell_type": "code",
   "execution_count": null,
   "id": "fc012e88",
   "metadata": {},
   "outputs": [],
   "source": [
    "mapping_a"
   ]
  },
  {
   "cell_type": "code",
   "execution_count": null,
   "id": "6ec6e5c9-4dda-4d08-bee0-ad1bb8bff38c",
   "metadata": {},
   "outputs": [],
   "source": [
    "for i in mapping_a.iterrows():\n",
    "    if i[1].list_of_tuples is not None:\n",
    "        if len(i[1].list_of_tuples) > 2: \n",
    "            print(i)\n",
    "            break"
   ]
  },
  {
   "cell_type": "code",
   "execution_count": null,
   "id": "bf2e2b92-e273-4a78-8909-2545a73324bf",
   "metadata": {},
   "outputs": [],
   "source": [
    "mapping_a.dropna(axis=0, inplace=True)\n",
    "mapping_b.dropna(axis=0, inplace=True)"
   ]
  },
  {
   "cell_type": "code",
   "execution_count": null,
   "id": "3ca9a1bd-9b16-4180-a767-f83cd9ee80b8",
   "metadata": {},
   "outputs": [],
   "source": [
    "mapping_a[\"list_of_tuples_\"] = mapping_a[\"list_of_tuples\"].map(\n",
    "            lambda x: [(i, j, 0) for i, j in x]\n",
    "        )\n",
    "mapping_b[\"list_of_tuples_\"] = mapping_b[\"list_of_tuples\"].map(\n",
    "    lambda x: [(i, j, 1) for i, j in x]\n",
    ")"
   ]
  },
  {
   "cell_type": "code",
   "execution_count": null,
   "id": "56530604-4bea-4bd5-be55-bcf9c9713c09",
   "metadata": {},
   "outputs": [],
   "source": [
    "joint_mapping: pd.DataFrame = pd.DataFrame(\n",
    "                data=mapping_a[\"list_of_tuples_\"] + mapping_b[\"list_of_tuples_\"]\n",
    "            )"
   ]
  },
  {
   "cell_type": "code",
   "execution_count": null,
   "id": "86df5202-4025-4d02-908d-7f8490607693",
   "metadata": {},
   "outputs": [],
   "source": [
    "joint_mapping"
   ]
  },
  {
   "cell_type": "code",
   "execution_count": null,
   "id": "dace72a1-2ba3-426f-bb5c-f1eea8dd182a",
   "metadata": {},
   "outputs": [],
   "source": [
    "# sorting on dwell time\n",
    "joint_mapping[\"list_of_tuples_\"] = joint_mapping[\"list_of_tuples_\"].map(\n",
    "    lambda x: sorted(x, key=lambda tup: float(tup[1]))\n",
    ")"
   ]
  },
  {
   "cell_type": "code",
   "execution_count": null,
   "id": "430711c2-9d45-441c-ba5b-3c24848db808",
   "metadata": {},
   "outputs": [],
   "source": [
    "joint_mapping"
   ]
  },
  {
   "cell_type": "code",
   "execution_count": null,
   "id": "6825d48e-bfc1-4447-955e-925cde42a3ca",
   "metadata": {},
   "outputs": [],
   "source": [
    "assert (\n",
    "    mapping_a.columns.to_list() == mapping_b.columns.to_list()\n",
    "), \"someting wrong with raw mapping columns\""
   ]
  },
  {
   "cell_type": "code",
   "execution_count": null,
   "id": "774af0a7-34e0-4be3-9735-6f2bf64a2732",
   "metadata": {},
   "outputs": [],
   "source": [
    "c: List[str] = mapping_a.columns.to_list()\n",
    "for i in c:\n",
    "    if i not in [\"list_of_tuples_\", \"mapping\", \"list_of_tuples\"]:\n",
    "        joint_mapping[i] = mapping_a[i]"
   ]
  },
  {
   "cell_type": "code",
   "execution_count": null,
   "id": "17aa66af-6d90-4e59-9284-e7f9b26b4001",
   "metadata": {},
   "outputs": [],
   "source": [
    "joint_mapping"
   ]
  },
  {
   "cell_type": "code",
   "execution_count": null,
   "id": "29552d0c-11a1-42c2-bf1d-6aaff9be5d98",
   "metadata": {},
   "outputs": [],
   "source": [
    "from generate_two_sites_mapping_stats_ import two_states_mapping_generator"
   ]
  },
  {
   "cell_type": "code",
   "execution_count": null,
   "id": "3cd939dc-e1d4-4671-bd3d-e233171c6e49",
   "metadata": {},
   "outputs": [],
   "source": [
    "joint_mapping[\"joint_mapping\"] = joint_mapping[\"list_of_tuples_\"].apply(\n",
    "            lambda x: list(two_states_mapping_generator(x))\n",
    "        )"
   ]
  },
  {
   "cell_type": "code",
   "execution_count": null,
   "id": "7b21d3fb-da6d-40a3-bae9-a9a1362d61c6",
   "metadata": {},
   "outputs": [],
   "source": [
    "list(joint_mapping.iloc[0,[0,6]])"
   ]
  },
  {
   "cell_type": "code",
   "execution_count": null,
   "id": "839d3631-b66c-48fa-b857-22ebf81eb75e",
   "metadata": {},
   "outputs": [],
   "source": [
    "list_of_chainID = joint_mapping.chainID.to_list()"
   ]
  },
  {
   "cell_type": "code",
   "execution_count": null,
   "id": "4514d0bd-92cf-4ab7-b501-aa1edff4333d",
   "metadata": {},
   "outputs": [],
   "source": [
    "from typing import Iterable\n",
    "# accepting only single point mutations\n",
    "nuc: List[str] = [\"A\", \"C\", \"G\", \"T\"]\n",
    "dinuc: Iterable[Tuple[str, str]] = list(product(nuc, nuc))\n",
    "dinuc_sub: List[str] = [\n",
    "    \"\".join(i[0]) + \">\" + \"\".join(i[1])\n",
    "    for i in product(dinuc, dinuc)\n",
    "    if \"\".join(i[0]) != \"\".join(i[1])\n",
    "    and (\n",
    "        (\n",
    "            \"\".join(i[0])[0] == \"\".join(i[1])[0]\n",
    "            and \"\".join(i[0])[1] != \"\".join(i[1])[1]\n",
    "        )\n",
    "        or (\n",
    "            \"\".join(i[0])[1] == \"\".join(i[1])[1]\n",
    "            and \"\".join(i[0])[0] != \"\".join(i[1])[0]\n",
    "        )\n",
    "    )\n",
    "]"
   ]
  },
  {
   "cell_type": "code",
   "execution_count": null,
   "id": "0ca93ba4",
   "metadata": {},
   "outputs": [],
   "source": [
    "assert len (dinuc) == 16"
   ]
  },
  {
   "cell_type": "code",
   "execution_count": null,
   "id": "f6d6e028-bc23-4e22-8f59-7a8253838fd9",
   "metadata": {},
   "outputs": [],
   "source": [
    "dict_of_N: Dict[int, Dict[str, int]] = {}\n",
    "dict_of_T: Dict[int, Dict[str, float]] = {}\n",
    "\n",
    "for chainID in list_of_chainID:\n",
    "    dict_of_N_: Dict[str, int] = {i: 0 for i in dinuc_sub}\n",
    "    dict_of_T_: Dict[str, float] = {\"\".join(i): 0.0 for i in dinuc}\n",
    "    \n",
    "    # print(joint_mapping.loc[\n",
    "    #     joint_mapping[\"chainID\"] == chainID][\"list_of_tuples_\"])\n",
    "    \n",
    "    for row in joint_mapping.loc[\n",
    "        joint_mapping[\"chainID\"] == chainID\n",
    "    ].iterrows():\n",
    "        if len(row[1].joint_mapping) > 0:\n",
    "            dwell_time_, state_from = row[1].joint_mapping[0]\n",
    "            dict_of_T_[state_from] += dwell_time_\n",
    "            # print(dwell_time_, state_from)\n",
    "            for dwell_time, state_to in row[1].joint_mapping[1:]:\n",
    "                dict_of_N_[state_from + \">\" + state_to] += 1\n",
    "                dict_of_T_[state_from] += dwell_time\n",
    "                print(row[1].joint_mapping[0],row[1].joint_mapping[1])\n",
    "                print(dwell_time, state_from, state_to)\n",
    "                state_from = state_to\n",
    "                # print(row)\n",
    "                \n",
    "                \n",
    "\n",
    "    dict_of_N[chainID] = dict_of_N_\n",
    "    dict_of_T[chainID] = dict_of_T_"
   ]
  },
  {
   "cell_type": "code",
   "execution_count": null,
   "id": "e4cff2ae",
   "metadata": {},
   "outputs": [],
   "source": [
    "joint_mapping.loc[joint_mapping[\"chainID\"] == chainID].iloc[14]"
   ]
  },
  {
   "cell_type": "code",
   "execution_count": null,
   "id": "97f95987-97a1-4d4d-a787-0b694f60a8a2",
   "metadata": {},
   "outputs": [],
   "source": [
    "for row in joint_mapping.loc[joint_mapping[\"chainID\"] == chainID].iterrows():\n",
    "    #print(row[1].joint_mapping)\n",
    "    for dwell_time, state_to in row[1].joint_mapping[1:]:\n",
    "        print(dwell_time,state_to)"
   ]
  },
  {
   "cell_type": "code",
   "execution_count": null,
   "id": "4ef6cf84-95bc-44d4-96af-c2917c30f020",
   "metadata": {},
   "outputs": [],
   "source": [
    "pd.DataFrame.from_dict(data=dict_of_N).mean(axis=1)"
   ]
  },
  {
   "cell_type": "code",
   "execution_count": null,
   "id": "8df23d06-996a-4d40-8748-6612f5cffa22",
   "metadata": {},
   "outputs": [],
   "source": [
    "pd.DataFrame.from_dict(data=dict_of_T).mean(axis=1)"
   ]
  },
  {
   "cell_type": "code",
   "execution_count": null,
   "id": "898507ea-aa01-40b0-973e-3ecdcf00fe3b",
   "metadata": {},
   "outputs": [],
   "source": [
    "list_of_tuples_ = [('A', 0.0, 0), ('T', 0.0, 1), ('A', 0.173679, 0), ('T', 0.173679, 1)]\n",
    "list(two_states_mapping_generator(list_of_tuples_))"
   ]
  },
  {
   "cell_type": "code",
   "execution_count": null,
   "id": "99ba24ce-c843-4d2e-a289-03c3fd44d27c",
   "metadata": {},
   "outputs": [],
   "source": [
    "list_of_tuples_ = [('A', 0.0, 0), ('T', 0.0, 1), ('G', 0.173679, 0), ('T', 0.173679, 1),('C', 0.193679, 1)]\n",
    "list(two_states_mapping_generator(list_of_tuples_))"
   ]
  },
  {
   "cell_type": "code",
   "execution_count": null,
   "id": "e5e002d3-51aa-454d-8c57-7d8da2365b27",
   "metadata": {},
   "outputs": [],
   "source": []
  }
 ],
 "metadata": {
  "interpreter": {
   "hash": "60642ef1cd9c301212d101731bcc51521a8960ea58648c739c21b605aa3e7cc6"
  },
  "kernelspec": {
   "display_name": "Python 3.9.7 ('mapping_brief')",
   "language": "python",
   "name": "python3"
  },
  "language_info": {
   "codemirror_mode": {
    "name": "ipython",
    "version": 3
   },
   "file_extension": ".py",
   "mimetype": "text/x-python",
   "name": "python",
   "nbconvert_exporter": "python",
   "pygments_lexer": "ipython3",
   "version": "3.9.7"
  }
 },
 "nbformat": 4,
 "nbformat_minor": 5
}
