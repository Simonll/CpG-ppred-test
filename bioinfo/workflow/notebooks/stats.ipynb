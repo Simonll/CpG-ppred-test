{
 "cells": [
  {
   "cell_type": "code",
   "execution_count": null,
   "metadata": {},
   "outputs": [],
   "source": [
    "!which python"
   ]
  },
  {
   "cell_type": "code",
   "execution_count": null,
   "metadata": {},
   "outputs": [],
   "source": [
    "%load_ext autoreload\n",
    "%autoreload 2\n",
    "from IPython.core.interactiveshell import InteractiveShell"
   ]
  },
  {
   "cell_type": "code",
   "execution_count": null,
   "metadata": {},
   "outputs": [],
   "source": [
    "# basic packages\n",
    "import os\n",
    "import re\n",
    "import sys\n",
    "import datetime\n",
    "from typing import List, Dict, Tuple, Optional, Any\n",
    "from itertools import combinations, product\n",
    "from pathlib import Path\n",
    "import glob\n",
    "#import yaml\n",
    "import tqdm\n",
    "import multiprocessing as mp"
   ]
  },
  {
   "cell_type": "code",
   "execution_count": null,
   "metadata": {},
   "outputs": [],
   "source": [
    "# data science\n",
    "import pandas as pd\n",
    "import numpy as np\n",
    "import matplotlib.pyplot as plt\n"
   ]
  },
  {
   "cell_type": "code",
   "execution_count": null,
   "metadata": {},
   "outputs": [],
   "source": [
    "# bioinformatics\n",
    "from bintools.utils.utils import get_yaml_config"
   ]
  },
  {
   "cell_type": "code",
   "execution_count": null,
   "metadata": {},
   "outputs": [],
   "source": [
    "ROOT_dir = Path(os.path.abspath(os.path.join(Path(\"../\")))).__str__()\n",
    "if ROOT_dir not in sys.path:\n",
    "    sys.path.append(ROOT_dir)"
   ]
  },
  {
   "cell_type": "code",
   "execution_count": null,
   "metadata": {},
   "outputs": [],
   "source": [
    "def sign(x):\n",
    "     return np.sum(x >= 0.95) / x.shape[0] * 100\n",
    "     \n",
    "def prop(x):\n",
    "     return np.sum(x) / x.shape[0]\n",
    "\n",
    "def tran(x):\n",
    "    if x <= 1:\n",
    "        return 0\n",
    "    else:\n",
    "        return 1\n",
    "\n",
    "\n",
    "def concat(input_dir:str, pattern:str)-> pd.DataFrame:\n",
    "     files: List[str] = glob.glob(input_dir + pattern)\n",
    "     assert len(files) > 0\n",
    "     list_of_df : List[pd.DataFrame] = []\n",
    "     for f in files:\n",
    "          cur_df: pd.DataFrame = pd.read_csv(f,sep=\"\\t\")\n",
    "          list_of_df += [cur_df]\n",
    "     return pd.concat(list_of_df,axis=0,ignore_index=True)"
   ]
  },
  {
   "cell_type": "code",
   "execution_count": null,
   "metadata": {},
   "outputs": [],
   "source": [
    "list_of_geneID_simu: List[str] = get_yaml_config(ROOT_dir+\"/configs/configs.yaml\")[\"simulation\"][\"geneID\"]\n",
    "list_of_geneID_emp: List[str] = get_yaml_config(ROOT_dir+\"/configs/configs.yaml\")[\"empirical\"][\"geneID\"]"
   ]
  },
  {
   "cell_type": "markdown",
   "metadata": {},
   "source": [
    "## PPRED "
   ]
  },
  {
   "attachments": {},
   "cell_type": "markdown",
   "metadata": {},
   "source": [
    "### Empirical study"
   ]
  },
  {
   "attachments": {},
   "cell_type": "markdown",
   "metadata": {},
   "source": [
    "#### GTR+G"
   ]
  },
  {
   "cell_type": "code",
   "execution_count": null,
   "metadata": {},
   "outputs": [],
   "source": [
    "list_of_df_ppred = []\n",
    "modelID = \"GTR4G\"\n",
    "repID = \"A\"\n",
    "for geneID in list_of_geneID_emp:\n",
    "    try:\n",
    "        list_of_df_ppred += [pd.read_csv(ROOT_dir+\"/outputs/empirical/stats/{modelID}/{geneID}-{repID}_ppred.tsv\".format(modelID=modelID,geneID=geneID,repID=repID),sep=\"\\t\",index_col=0)]\n",
    "    except Exception as e:\n",
    "        print(\"something wrong with %s\"% geneID)\n",
    "df_ppred_concat = pd.concat(list_of_df_ppred)"
   ]
  },
  {
   "cell_type": "code",
   "execution_count": null,
   "metadata": {},
   "outputs": [],
   "source": [
    "assert len(set(df_ppred_concat[\"geneID\"])) == 137 "
   ]
  },
  {
   "cell_type": "code",
   "execution_count": null,
   "metadata": {},
   "outputs": [],
   "source": [
    "dict_of_stats = {}\n",
    "k=0\n",
    "for geneID in list(set(df_ppred_concat.geneID)):\n",
    "    dict_of_stats[k] = {\n",
    "            \"geneID\": geneID,\n",
    "        }\n",
    "    for x, y in list(product([\"A\", \"C\", \"G\", \"T\"], [\"A\", \"C\", \"G\", \"T\"])):\n",
    "        XpY = x + \"p\" + y\n",
    "        XpY_ppred: np.array = df_ppred_concat.loc[(df_ppred_concat[\"geneID\"]==geneID)][XpY].to_numpy()\n",
    "        XpY_obs: float = df_obs_concat.loc[df_obs_concat[\"geneID\"]==geneID][XpY].to_numpy()[0]\n",
    "        \n",
    "        dict_of_stats[k].update({\n",
    "                XpY+\"_test\" : np.sum(XpY_ppred > XpY_obs)/len(XpY_ppred),\n",
    "                XpY+\"_mean\" : np.mean(XpY_ppred),\n",
    "                XpY+\"_std\" : np.std(XpY_ppred),\n",
    "                XpY+\"_obs\": XpY_obs,\n",
    "                })\n",
    "        \n",
    "    k+=1"
   ]
  },
  {
   "cell_type": "code",
   "execution_count": null,
   "metadata": {},
   "outputs": [],
   "source": [
    "sign(pd.DataFrame.from_dict(data=dict_of_stats,orient=\"index\")[[\"TpA_test\"]])"
   ]
  },
  {
   "cell_type": "code",
   "execution_count": null,
   "metadata": {},
   "outputs": [],
   "source": [
    "pd.DataFrame.from_dict(data=dict_of_stats,orient=\"index\")[[\"CpG_test\"]].agg([sign]).sort_values(by=[\"sign\"],axis=1).round(3).to_csv(ROOT_dir + \"/reports/CpG_test_empirical_GTRG.csv\", sep=\"\\t\")"
   ]
  },
  {
   "cell_type": "code",
   "execution_count": null,
   "metadata": {},
   "outputs": [],
   "source": [
    "pd.DataFrame.from_dict(data=dict_of_stats,orient=\"index\")[[x+\"p\"+y+\"_test\"for x, y in list(product([\"A\", \"C\", \"G\", \"T\"], [\"A\", \"C\", \"G\", \"T\"]))]].agg([sign]).sort_values(by=[\"sign\"],axis=1).round(3).to_csv(ROOT_dir + \"/reports/XpY_test_empirical_GTRG.csv\", sep=\"\\t\")"
   ]
  },
  {
   "cell_type": "code",
   "execution_count": null,
   "metadata": {},
   "outputs": [],
   "source": [
    "pd.DataFrame.from_dict(data=dict_of_stats,orient=\"index\")[[\"geneID\"]+[x+\"p\"+y+\"_test\"for x, y in list(product([\"A\", \"C\", \"G\", \"T\"], [\"A\", \"C\", \"G\", \"T\"]))]].to_csv(ROOT_dir + \"/reports/XpY_test_empirical_all_GTRG.csv\", sep=\"\\t\")"
   ]
  },
  {
   "cell_type": "code",
   "execution_count": null,
   "metadata": {},
   "outputs": [],
   "source": [
    "fig, axes = plt.subplots(1,2,sharex=True, sharey=\"row\", figsize=(6,4))\n",
    "axes = axes.ravel()\n",
    "list_of_subplots = [\"A\",\"B\"]\n",
    "k = 0\n",
    "obs = df_obs_concat.loc[df_obs_concat[\"geneID\"]== \"MEP1A\",[\"CpG\"]].values[0][0]\n",
    "pred = df_ppred_concat.loc[(df_ppred_concat[\"geneID\"]==\"MEP1A\"),[\"CpG\"]].values.reshape(1,-1)[0]\n",
    "weights_pred = np.ones_like(pred) / pred.shape[0]\n",
    "v_ratio = str(round(np.sum(obs > pred) / obs.size * 100, 2))\n",
    "bins = np.histogram(\n",
    "                    np.hstack([pred]), bins=20\n",
    "                )[1]\n",
    "axes[k].set_title(list_of_subplots[k], loc=\"left\")\n",
    "axes[k].set_xlabel(\"CpG frequency\")\n",
    "axes[k].hist(\n",
    "    [pred],\n",
    "    bins=bins,\n",
    "    color=\"blue\",\n",
    "    alpha=0.5,\n",
    "    stacked=False,\n",
    "    weights=[weights_pred],\n",
    "    label=[\"% \" + v_ratio],\n",
    ")\n",
    "# plt.axis('off')\n",
    "# plt.yaxis().set_visible(False)\n",
    "axes[k].axvline(obs, color=\"black\")\n",
    "# _ = axes.set_yticks([])\n",
    "# _ = axes.set_yticklabels([])\n",
    "axes[k].set_ylabel(\"Density\")\n",
    "\n",
    "k +=1\n",
    "obs = df_obs_concat.loc[df_obs_concat[\"geneID\"]== \"MEP1A\",[\"ApT\"]].values[0][0]\n",
    "pred = df_ppred_concat.loc[(df_ppred_concat[\"geneID\"]==\"MEP1A\"),[\"ApT\"]].values.reshape(1,-1)[0]\n",
    "weights_pred = np.ones_like(pred) / pred.shape[0]\n",
    "v_ratio = str(round(np.sum(obs > pred) / obs.size * 100, 2))\n",
    "bins = np.histogram(\n",
    "                    np.hstack([pred]), bins=20\n",
    "                )[1]\n",
    "axes[k].set_title(list_of_subplots[k], loc=\"left\")\n",
    "axes[k].set_xlabel(\"ApT frequency\")\n",
    "axes[k].hist(\n",
    "    [pred],\n",
    "    bins=bins,\n",
    "    color=\"blue\",\n",
    "    alpha=0.5,\n",
    "    stacked=False,\n",
    "    weights=[weights_pred],\n",
    "    label=[\"% \" + v_ratio],\n",
    ")\n",
    "# plt.axis('off')\n",
    "# plt.yaxis().set_visible(False)\n",
    "axes[k].axvline(obs, color=\"black\")\n",
    "\n",
    "\n",
    "fig.savefig(ROOT_dir + \"/reports/figure1.pdf\",dpi=300)"
   ]
  },
  {
   "attachments": {},
   "cell_type": "markdown",
   "metadata": {},
   "source": [
    "#### F1X4"
   ]
  },
  {
   "cell_type": "code",
   "execution_count": null,
   "metadata": {},
   "outputs": [],
   "source": [
    "modelID = \"F1X4\"\n",
    "repID = \"A\"\n",
    "list_of_df_ppred = []\n",
    "for geneID in list_of_geneID_emp:\n",
    "    try:\n",
    "        list_of_df_ppred += [pd.read_csv(ROOT_dir+\"/outputs/empirical/{modelID}/stats/{geneID}-{repID}_ppred.tsv\".format(modelID=modelID,geneID=geneID,repID=repID),sep=\"\\t\",index_col=0)]\n",
    "    except Exception as e:\n",
    "        print(\"something wrong with %s\"% geneID)\n",
    "df_ppred_concat = pd.concat(list_of_df_ppred)"
   ]
  },
  {
   "cell_type": "code",
   "execution_count": null,
   "metadata": {},
   "outputs": [],
   "source": [
    "assert len(set(df_ppred_concat[\"geneID\"])) == 137 "
   ]
  },
  {
   "cell_type": "code",
   "execution_count": null,
   "metadata": {},
   "outputs": [],
   "source": [
    "dict_of_stats = {}\n",
    "k=0\n",
    "for geneID in list(set(df_ppred_concat.geneID)):\n",
    "    dict_of_stats[k] = {\n",
    "            \"geneID\": geneID,\n",
    "        }\n",
    "    for x, y in list(product([\"A\", \"C\", \"G\", \"T\"], [\"A\", \"C\", \"G\", \"T\"])):\n",
    "        XpY = x + \"p\" + y\n",
    "        XpY_ppred: np.array = df_ppred_concat.loc[(df_ppred_concat[\"geneID\"]==geneID)][XpY].to_numpy()\n",
    "        XpY_obs: float = df_obs_concat.loc[df_obs_concat[\"geneID\"]==geneID][XpY].to_numpy()[0]\n",
    "        \n",
    "        dict_of_stats[k].update({\n",
    "                XpY+\"_test\" : np.sum(XpY_ppred > XpY_obs)/len(XpY_ppred),\n",
    "                XpY+\"_mean\" : np.mean(XpY_ppred),\n",
    "                XpY+\"_std\" : np.std(XpY_ppred),\n",
    "                XpY+\"_obs\": XpY_obs,\n",
    "                })\n",
    "        \n",
    "    k+=1"
   ]
  },
  {
   "cell_type": "code",
   "execution_count": null,
   "metadata": {},
   "outputs": [],
   "source": [
    "pd.DataFrame.from_dict(data=dict_of_stats,orient=\"index\")[[x+\"p\"+y+\"_test\"for x, y in list(product([\"A\", \"C\", \"G\", \"T\"], [\"A\", \"C\", \"G\", \"T\"]))]].agg([np.mean]).sort_values(by=[\"mean\"],axis=1).round(3).to_csv(ROOT_dir + \"/reports/XpY_test_GTRG.csv\", sep=\"\\t\")"
   ]
  },
  {
   "attachments": {},
   "cell_type": "markdown",
   "metadata": {},
   "source": [
    "### Simulation study"
   ]
  },
  {
   "attachments": {},
   "cell_type": "markdown",
   "metadata": {},
   "source": [
    "#### GTR4G on simulations generated using GTR4G"
   ]
  },
  {
   "cell_type": "code",
   "execution_count": null,
   "metadata": {},
   "outputs": [],
   "source": [
    "modelID = \"GTR4G\"\n",
    "repID = \"A\"\n",
    "list_of_df_obs = []\n",
    "for geneID in list_of_geneID_simu:\n",
    "    for drawID in range(0,10):\n",
    "        cur_df = pd.read_csv(ROOT_dir+\"/outputs/simulation/{modelID}/simu/stats/{geneID}-{repID}-{draw}-OBSERVED.tsv\".format(modelID=modelID,geneID=geneID,repID=repID,draw=drawID),sep=\"\\t\", index_col=0)\n",
    "        list_of_df_obs += [cur_df]\n",
    "\n",
    "df_obs_concat = pd.concat(list_of_df_obs, ignore_index=True)"
   ]
  },
  {
   "cell_type": "code",
   "execution_count": null,
   "metadata": {},
   "outputs": [],
   "source": [
    "modelID = \"GTR4G\"\n",
    "repID = \"A\"\n",
    "repID_ = \"A\"\n",
    "\n",
    "list_of_df_ppred = []\n",
    "for geneID in list_of_geneID_simu:\n",
    "    for drawID in range(0,10):\n",
    "        cur_df = pd.read_csv(ROOT_dir+\"/outputs/simulation/{modelID}/simu/stats/{geneID}-{repID}-{draw}-{repID_}_ppred.tsv\"\n",
    "        ,sep=\"\\t\", index_col=0)\n",
    "        list_of_df_ppred += [cur_df]\n",
    "df_ppred_concat = pd.concat(list_of_df_ppred, ignore_index=True)"
   ]
  },
  {
   "cell_type": "code",
   "execution_count": null,
   "metadata": {},
   "outputs": [],
   "source": [
    "dict_of_stats = {}\n",
    "k=0\n",
    "for geneID in list_of_geneID_simu:\n",
    "    for drawID in range(0,10):\n",
    "        dict_of_stats[k] = {\n",
    "            \"geneID\": geneID,\n",
    "            \"drawID\":drawID\n",
    "        }\n",
    "        for x, y in list(product([\"A\", \"C\", \"G\", \"T\"], [\"A\", \"C\", \"G\", \"T\"])):\n",
    "            XpY = x + \"p\" + y\n",
    "\n",
    "            XpY_ppred: np.array = df_ppred_concat.loc[(df_ppred_concat[\"geneID\"]==geneID)&(df_ppred_concat[\"draw\"]==drawID)][XpY].to_numpy()\n",
    "            XpY_obs: float = df_obs_concat.loc[(df_obs_concat[\"geneID\"]==geneID)&(df_obs_concat[\"draw\"]==drawID)][XpY].to_numpy()[0]\n",
    "            dict_of_stats[k].update({\n",
    "                XpY+\"_test\" : np.sum(XpY_ppred > XpY_obs)/len(XpY_ppred),\n",
    "                XpY+\"_mean\" : np.mean(XpY_ppred),\n",
    "                XpY+\"_std\" : np.std(XpY_ppred),\n",
    "                XpY+\"_obs\":XpY_obs,\n",
    "            })\n",
    "        k+=1"
   ]
  },
  {
   "cell_type": "code",
   "execution_count": null,
   "metadata": {},
   "outputs": [],
   "source": [
    "pd.DataFrame.from_dict(data=dict_of_stats,orient=\"index\")[[\"CpG_test\"]].agg([sign, \"count\"]).round(2)#.to_csv(ROOT_dir + \"/reports/CpG_test_simu_GTRG_GTRG_.csv\", sep=\"\\t\")"
   ]
  },
  {
   "cell_type": "code",
   "execution_count": null,
   "metadata": {},
   "outputs": [],
   "source": [
    "pd.DataFrame.from_dict(data=dict_of_stats,orient=\"index\")[[\"CpG_test\"]].agg([sign, \"count\"])#[[\"CpG_test\",\"CpG_mean\",\"CpG_std\",\"CpG_obs\"]]"
   ]
  },
  {
   "attachments": {},
   "cell_type": "markdown",
   "metadata": {},
   "source": [
    "#### GTR4G on simulations generated using F1X4"
   ]
  },
  {
   "cell_type": "code",
   "execution_count": null,
   "metadata": {},
   "outputs": [],
   "source": [
    "modelID = \"F1X4\"\n",
    "repID = \"A\"\n",
    "list_of_df_obs = []\n",
    "for geneID in list_of_geneID_simu:\n",
    "    for omega in [0.2,1]:\n",
    "        for CpG in [1,4,8]:\n",
    "            for TpA in [1,]:\n",
    "                for tbl in [1,10]:\n",
    "                    print(\".\",end=\"\")\n",
    "                    for drawID in range(0,10):\n",
    "                        cur_df = pd.read_csv(ROOT_dir+\"/outputs/simulation/{modelID}/simu/stats/{geneID}-{repID}-{omega}-{CpG}-{TpA}-{tbl}-{draw}-1_0-OBSERVED.tsv\".format(modelID=modelID,geneID=geneID,repID=repID,omega=omega,CpG=CpG,TpA=TpA,draw=drawID),sep=\"\\t\", index_col=0)\n",
    "                        cur_df[\"tbl\"] = [tbl]*cur_df.shape[0]\n",
    "                        list_of_df_obs += [cur_df]\n",
    "\n",
    "df_obs_concat = pd.concat(list_of_df_obs, ignore_index=True)"
   ]
  },
  {
   "cell_type": "code",
   "execution_count": null,
   "metadata": {},
   "outputs": [],
   "source": [
    "modelID = \"F1X4\"\n",
    "repID = \"A\"\n",
    "repID_ = \"A\"\n",
    "list_of_df_ppred = []\n",
    "for geneID in list_of_geneID_simu:\n",
    "    for omega in [0.2,1]:\n",
    "        for CpG in [1,4,8]:\n",
    "            for TpA in [1]:\n",
    "                for tbl in [1]:\n",
    "                    print(\".\",end=\"\")\n",
    "                    for drawID in range(0,10):\n",
    "                        cur_df = pd.read_csv(ROOT_dir+\"/outputs/simulation/{modelID}/simu/stats/{geneID}-{repID}-{omega}-{CpG}-{TpA}-{tbl}-{drawID}-{repID}_ppred.tsv\".format(modelID=modelID,geneID=geneID,repID=repID,omega=omega,CpG=CpG,TpA=TpA,drawID=drawID,repID_=repID_),sep=\"\\t\", index_col=0)\n",
    "                        cur_df[\"tbl\"] = [tbl]*cur_df.shape[0]\n",
    "                        list_of_df_ppred += [cur_df]\n",
    "df_ppred_concat = pd.concat(list_of_df_ppred, ignore_index=True)"
   ]
  },
  {
   "cell_type": "code",
   "execution_count": null,
   "metadata": {},
   "outputs": [],
   "source": [
    "dict_of_stats = {}\n",
    "k=0\n",
    "for geneID in list_of_geneID_simu:\n",
    "    for omega in [0.2,1]:\n",
    "        for CpG in [1,4,8]:\n",
    "            for TpA in [1,]:\n",
    "                for tbl in [1]:\n",
    "                    for drawID in range(0,10):\n",
    "                        dict_of_stats[k] = {\n",
    "                            \"geneID\": geneID,\n",
    "                            \"CpG\": CpG,\n",
    "                            \"TpA\": TpA,\n",
    "                            \"tbl\": tbl,\n",
    "                            \"omega\":omega,\n",
    "                            \"drawID\":drawID\n",
    "                        }\n",
    "                        for x, y in list(product([\"A\", \"C\", \"G\", \"T\"], [\"A\", \"C\", \"G\", \"T\"])):\n",
    "                            XpY = x + \"p\" + y\n",
    "\n",
    "                            XpY_ppred: np.array = df_ppred_concat.loc[(df_ppred_concat[\"tbl\"]==tbl)&(df_ppred_concat[\"geneID\"]==geneID)&(df_ppred_concat[\"omega\"]==omega)&(df_ppred_concat[\"CpGf\"]==CpG)&(df_ppred_concat[\"TpAf\"]==TpA)&(df_ppred_concat[\"draw\"]==drawID)][XpY].to_numpy()\n",
    "                            XpY_obs: float = df_obs_concat.loc[(df_obs_concat[\"tbl\"]==tbl)&(df_obs_concat[\"geneID\"]==geneID)&(df_obs_concat[\"omega\"]==omega)&(df_obs_concat[\"CpGf\"]==CpG)&(df_obs_concat[\"TpAf\"]==TpA)&(df_obs_concat[\"draw\"]==drawID)][XpY].to_numpy()[0]\n",
    "                            dict_of_stats[k].update({\n",
    "                                XpY+\"_test\" : np.sum(XpY_ppred > XpY_obs)/len(XpY_ppred),\n",
    "                                XpY+\"_mean\" : np.mean(XpY_ppred),\n",
    "                                XpY+\"_std\" : np.std(XpY_ppred),\n",
    "                                XpY+\"_obs\":XpY_obs,\n",
    "                            })\n",
    "                        k+=1"
   ]
  },
  {
   "cell_type": "code",
   "execution_count": null,
   "metadata": {},
   "outputs": [],
   "source": [
    "pd.DataFrame.from_dict(data=dict_of_stats,orient=\"index\").groupby(by=[\"CpG\",\"TpA\",\"tbl\",\"omega\"])[[\"CpG_test\"]].agg([sign, \"count\"]).round(2).to_csv(ROOT_dir + \"/reports/CpG_test_simu_GTR4G_on_F1X4.csv\", sep=\"\\t\")"
   ]
  }
 ],
 "metadata": {
  "kernelspec": {
   "display_name": "Python 3.9.7 ('mapping_brief')",
   "language": "python",
   "name": "python3"
  },
  "language_info": {
   "codemirror_mode": {
    "name": "ipython",
    "version": 3
   },
   "file_extension": ".py",
   "mimetype": "text/x-python",
   "name": "python",
   "nbconvert_exporter": "python",
   "pygments_lexer": "ipython3",
   "version": "3.9.7"
  },
  "vscode": {
   "interpreter": {
    "hash": "60642ef1cd9c301212d101731bcc51521a8960ea58648c739c21b605aa3e7cc6"
   }
  }
 },
 "nbformat": 4,
 "nbformat_minor": 2
}
