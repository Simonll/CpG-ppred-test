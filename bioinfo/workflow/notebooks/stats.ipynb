{
 "cells": [
  {
   "cell_type": "code",
   "execution_count": null,
   "metadata": {},
   "outputs": [],
   "source": [
    "!which python"
   ]
  },
  {
   "cell_type": "code",
   "execution_count": null,
   "metadata": {},
   "outputs": [],
   "source": [
    "%load_ext autoreload\n",
    "%autoreload 2\n",
    "from IPython.core.interactiveshell import InteractiveShell"
   ]
  },
  {
   "cell_type": "code",
   "execution_count": null,
   "metadata": {},
   "outputs": [],
   "source": [
    "# basic packages\n",
    "import os\n",
    "import re\n",
    "import sys\n",
    "import datetime\n",
    "from typing import List, Dict, Tuple, Optional, Any\n",
    "from itertools import combinations, product\n",
    "from pathlib import Path\n",
    "import glob\n",
    "#import yaml\n",
    "import tqdm\n",
    "import multiprocessing as mp"
   ]
  },
  {
   "cell_type": "code",
   "execution_count": null,
   "metadata": {},
   "outputs": [],
   "source": [
    "# data science\n",
    "import pandas as pd\n",
    "import numpy as np\n",
    "import matplotlib.pyplot as plt\n"
   ]
  },
  {
   "cell_type": "code",
   "execution_count": null,
   "metadata": {},
   "outputs": [],
   "source": [
    "# bioinformatics\n",
    "import pandas as pd\n",
    "from Bio.Seq import MutableSeq\n",
    "from Bio import SeqIO\n",
    "from Bio.SeqRecord import SeqRecord\n",
    "from Bio.Align import MultipleSeqAlignment\n",
    "from bintools.utils.utils import get_yaml_config\n",
    "from bintools.phylobayes import gtr_parser"
   ]
  },
  {
   "cell_type": "code",
   "execution_count": null,
   "metadata": {},
   "outputs": [],
   "source": [
    "ROOT_dir = Path(os.path.abspath(os.path.join(Path(\"../\")))).__str__()\n",
    "if ROOT_dir not in sys.path:\n",
    "    sys.path.append(ROOT_dir)"
   ]
  },
  {
   "cell_type": "code",
   "execution_count": null,
   "metadata": {},
   "outputs": [],
   "source": [
    "list_of_geneID_simu: List[str] = get_yaml_config(ROOT_dir+\"/configs/configs.yaml\")[\"simulation\"][\"geneID\"]\n",
    "list_of_geneID_emp: List[str] = get_yaml_config(ROOT_dir+\"/configs/configs.yaml\")[\"empirical\"][\"geneID\"]"
   ]
  },
  {
   "cell_type": "code",
   "execution_count": null,
   "metadata": {},
   "outputs": [],
   "source": [
    "def sign(x):\n",
    "     return np.sum(x >= 0.95) / x.shape[0] * 100\n",
    "     \n",
    "def prop(x):\n",
    "     return np.sum(x) / x.shape[0]\n",
    "\n",
    "def tran(x):\n",
    "    if x <= 1:\n",
    "        return 0\n",
    "    else:\n",
    "        return 1\n",
    "\n",
    "\n",
    "def concat(input_dir:str, pattern:str):\n",
    "     files: List[str] = glob.glob(input_dir + pattern)\n",
    "     assert len(files) > 0\n",
    "     list_of_df : List[pd.DataFrame] = []\n",
    "     for f in files:\n",
    "          cur_df: pd.DataFrame = pd.read_csv(f,sep=\"\\t\")\n",
    "          list_of_df += [cur_df]\n",
    "     return pd.concat(list_of_df,axis=0,ignore_index=True)"
   ]
  },
  {
   "cell_type": "markdown",
   "metadata": {},
   "source": [
    "## Simulation GTRG4"
   ]
  },
  {
   "cell_type": "code",
   "execution_count": null,
   "metadata": {},
   "outputs": [],
   "source": [
    "input_dir: str = ROOT_dir+\"/outputs/simulation/gtrg4/stats_gtrg4/\"\n",
    "pattern: str = \"*-A_suffdistatmap_DINT.tsv\"\n",
    "df: pd.DataFrame = concat(input_dir=input_dir, pattern=pattern)"
   ]
  },
  {
   "cell_type": "code",
   "execution_count": null,
   "metadata": {},
   "outputs": [],
   "source": [
    "assert df.shape[0] == 10000"
   ]
  },
  {
   "cell_type": "code",
   "execution_count": null,
   "metadata": {},
   "outputs": [],
   "source": [
    "df[\"lambda_CpG\"] = df[\"CG>TG|CA\"] / df[\"CG\"]\n",
    "dict_of_count = {}\n",
    "k = 0 \n",
    "for geneID in set(df.geneID):\n",
    "    print(\".\",end=\"\")\n",
    "    for repID in range(0,10):\n",
    "        for mcmcID in set(df.mcmcID):\n",
    "            v_post: float = df.loc[(df[\"geneID\"]==geneID)&(df[\"draw\"]==repID)&(df[\"mcmcID\"]==mcmcID)&(df[\"type\"]==\"post\")][\"lambda_CpG\"].to_numpy()[0]\n",
    "            v_pred: float = df.loc[(df[\"geneID\"]==geneID)&(df[\"draw\"]==repID)&(df[\"mcmcID\"]==mcmcID)&(df[\"type\"]==\"pred\")][\"lambda_CpG\"].to_numpy()[0]\n",
    "            dict_of_count[k] = {\n",
    "                                \"geneID\": geneID,\n",
    "                                \"repID\": repID,\n",
    "                                \"mcmcID\": mcmcID,\n",
    "                                \"test\" : 1 if v_post > v_pred else 0\n",
    "                                }\n",
    "            k+=1"
   ]
  },
  {
   "cell_type": "code",
   "execution_count": null,
   "metadata": {},
   "outputs": [],
   "source": [
    "df_test: pd.DataFrame = pd.DataFrame.from_dict(data=dict_of_count, orient=\"index\")\n",
    "df_test.groupby(by=[\"geneID\",\"repID\"])[\"test\"].agg([prop,\"count\"]).reset_index().to_csv(ROOT_dir+\"/reports/simulation_gtrg4_lambda_CpG.tsv\", sep=\"\\t\")\n",
    "df_test = df_test.groupby(by=[\"geneID\",\"repID\"])[\"test\"].agg([prop,\"count\"]).reset_index()\n"
   ]
  },
  {
   "cell_type": "code",
   "execution_count": null,
   "metadata": {},
   "outputs": [],
   "source": [
    "df_test.loc[df_test[\"geneID\"]==\"CSRP2BP\"]"
   ]
  },
  {
   "cell_type": "code",
   "execution_count": null,
   "metadata": {},
   "outputs": [],
   "source": [
    "dict_of_prop = {}\n",
    "k = 0 \n",
    "for geneID in set(df_test.geneID):\n",
    "    print(\".\",end=\"\")\n",
    "    for repID in range(0,10):\n",
    "            prop_v: float = df_test.loc[(df_test[\"geneID\"]==geneID)&(df_test[\"repID\"]==repID)][\"prop\"].to_numpy()[0]\n",
    "            dict_of_prop[k] = {\n",
    "                \"test 95\": 1 if prop_v > 0.95 else 0,\n",
    "                \"test 90\": 1 if prop_v > 0.90 else 0,\n",
    "                \"test 80\": 1 if prop_v > 0.80 else 0,\n",
    "                \"test 70\": 1 if prop_v > 0.70 else 0,\n",
    "                \"geneID\": geneID,\n",
    "                \"repID\": repID,\n",
    "            }\n",
    "            k+=1\n",
    "df_test_count:pd.DataFrame = pd.DataFrame.from_dict(data=dict_of_prop, orient=\"index\")\n",
    "df_test_count\n",
    "df_test_count[[\"test 95\",\"test 90\", \"test 80\",\"test 70\"]].agg([np.sum, \"count\"]).reset_index()"
   ]
  },
  {
   "cell_type": "markdown",
   "metadata": {},
   "source": [
    "## Simulation GTR"
   ]
  },
  {
   "cell_type": "code",
   "execution_count": null,
   "metadata": {},
   "outputs": [],
   "source": [
    "input_dir: str = ROOT_dir+\"/outputs/simulation/gtr/stats_gtrg4/\"\n",
    "pattern: str = \"*-A_suffdistatmap_DINT.tsv\"\n",
    "df: pd.DataFrame = concat(input_dir=input_dir, pattern=pattern)"
   ]
  },
  {
   "cell_type": "code",
   "execution_count": null,
   "metadata": {},
   "outputs": [],
   "source": [
    "df[\"lambda_CpG\"] = df[\"CG>TG|CA\"] / df[\"CG\"]\n",
    "dict_of_count = {}\n",
    "k = 0 \n",
    "for geneID in set(df.geneID):\n",
    "    print(\".\",end=\"\")\n",
    "    for repID in range(0,10):\n",
    "        for mcmcID in set(df.mcmcID):\n",
    "            v_post: float = df.loc[(df[\"geneID\"]==geneID)&(df[\"draw\"]==repID)&(df[\"mcmcID\"]==mcmcID)&(df[\"type\"]==\"post\")][\"lambda_CpG\"].to_numpy()[0]\n",
    "            v_pred: float = df.loc[(df[\"geneID\"]==geneID)&(df[\"draw\"]==repID)&(df[\"mcmcID\"]==mcmcID)&(df[\"type\"]==\"pred\")][\"lambda_CpG\"].to_numpy()[0]\n",
    "            dict_of_count[k] = {\n",
    "                                \"geneID\": geneID,\n",
    "                                \"repID\": repID,\n",
    "                                \"mcmcID\": mcmcID,\n",
    "                                \"test\" : 1 if v_post > v_pred else 0\n",
    "                                }\n",
    "            k+=1"
   ]
  },
  {
   "cell_type": "code",
   "execution_count": null,
   "metadata": {},
   "outputs": [],
   "source": [
    "df_test: pd.DataFrame = pd.DataFrame.from_dict(data=dict_of_count, orient=\"index\")\n",
    "df_test.groupby(by=[\"geneID\",\"repID\"])[\"test\"].agg([prop,\"count\"]).to_csv(ROOT_dir+\"/reports/simulation_gtr_lambda_CpG.tsv\", sep=\"\\t\")\n",
    "df_test = df_test.groupby(by=[\"geneID\",\"repID\"])[\"test\"].agg([prop,\"count\"]).reset_index()\n"
   ]
  },
  {
   "cell_type": "code",
   "execution_count": null,
   "metadata": {},
   "outputs": [],
   "source": [
    "df_test.loc[df_test[\"geneID\"]==\"CSRP2BP\"]"
   ]
  },
  {
   "cell_type": "code",
   "execution_count": null,
   "metadata": {},
   "outputs": [],
   "source": [
    "dict_of_prop = {}\n",
    "k = 0 \n",
    "for geneID in set(df_test.geneID):\n",
    "    print(\".\",end=\"\")\n",
    "    for repID in range(0,10):\n",
    "            prop_v: float = df_test.loc[(df_test[\"geneID\"]==geneID)&(df_test[\"repID\"]==repID)][\"prop\"].to_numpy()[0]\n",
    "            dict_of_prop[k] = {\n",
    "                \"test 95\": 1 if prop_v > 0.95 else 0,\n",
    "                \"test 90\": 1 if prop_v > 0.90 else 0,\n",
    "                \"test 80\": 1 if prop_v > 0.80 else 0,\n",
    "                \"test 70\": 1 if prop_v > 0.70 else 0,\n",
    "                \"geneID\": geneID,\n",
    "                \"repID\": repID,\n",
    "            }\n",
    "            k+=1"
   ]
  },
  {
   "cell_type": "code",
   "execution_count": null,
   "metadata": {},
   "outputs": [],
   "source": [
    "df_test_count:pd.DataFrame = pd.DataFrame.from_dict(data=dict_of_prop, orient=\"index\")\n",
    "df_test_count"
   ]
  },
  {
   "cell_type": "code",
   "execution_count": null,
   "metadata": {},
   "outputs": [],
   "source": [
    "df_test_count[[\"test 95\",\"test 90\", \"test 80\",\"test 70\"]].agg([np.sum, \"count\"]).reset_index()"
   ]
  },
  {
   "cell_type": "markdown",
   "metadata": {},
   "source": [
    "## Simulations M0GTR"
   ]
  },
  {
   "cell_type": "code",
   "execution_count": null,
   "metadata": {},
   "outputs": [],
   "source": [
    "input_dir: str = ROOT_dir+\"/outputs/simulation/m0gtr/stats_gtrg4/\"\n",
    "pattern: str = \"*-GTRG4-?.?-?-?-A_suffdistatmap_DINT.tsv\"\n",
    "df: pd.DataFrame = concat(input_dir=input_dir, pattern=pattern)\n",
    "print(df.shape[0])\n",
    "assert df.shape[0] == 60000"
   ]
  },
  {
   "cell_type": "code",
   "execution_count": null,
   "metadata": {},
   "outputs": [],
   "source": [
    "df[\"lambda_CpG\"] = df[\"CG>TG|CA\"] / df[\"CG\"]\n",
    "dict_of_count = {}\n",
    "k = 0 \n",
    "for geneID in set(df.geneID):\n",
    "    for omega in [0.2, 1]:\n",
    "        for CpG in [1,4, 8]:\n",
    "            print(\".\",end=\"\")\n",
    "            for repID in range(0,10):\n",
    "                for mcmcID in set(df.mcmcID):\n",
    "                    v_post: float = df.loc[(df[\"CpG\"]==CpG)&(df[\"omega\"]==omega)&(df[\"geneID\"]==geneID)&(df[\"draw\"]==repID)&(df[\"mcmcID\"]==mcmcID)&(df[\"type\"]==\"post\")][\"lambda_CpG\"].to_numpy()[0]\n",
    "                    v_pred: float = df.loc[(df[\"CpG\"]==CpG)&(df[\"omega\"]==omega)&(df[\"geneID\"]==geneID)&(df[\"draw\"]==repID)&(df[\"mcmcID\"]==mcmcID)&(df[\"type\"]==\"pred\")][\"lambda_CpG\"].to_numpy()[0]\n",
    "                    dict_of_count[k] = {\n",
    "                                        \"geneID\": geneID,\n",
    "                                        \"draw\": repID,\n",
    "                                        \"omega\":omega,\n",
    "                                        \"CpG\":CpG,\n",
    "                                        \"mcmcID\": mcmcID,\n",
    "                                        \"test\" : 1 if v_post > v_pred else 0\n",
    "                        \n",
    "                                        }\n",
    "                    k+=1"
   ]
  },
  {
   "cell_type": "code",
   "execution_count": null,
   "metadata": {},
   "outputs": [],
   "source": [
    "df_test: pd.DataFrame = pd.DataFrame.from_dict(data=dict_of_count, orient=\"index\")\n",
    "df_test.groupby(by=[\"geneID\",\"omega\",\"CpG\",\"draw\"])[\"test\"].agg([prop,\"count\"]).reset_index().to_csv(ROOT_dir+\"/reports/m0gtr_lambda_CpG.tsv\", sep=\"\\t\")\n",
    "df_test = df_test.groupby(by=[\"geneID\",\"omega\",\"CpG\",\"draw\"])[\"test\"].agg([prop,\"count\"]).reset_index()\n",
    "df_test"
   ]
  },
  {
   "cell_type": "code",
   "execution_count": null,
   "metadata": {},
   "outputs": [],
   "source": [
    "df_test"
   ]
  },
  {
   "cell_type": "code",
   "execution_count": null,
   "metadata": {},
   "outputs": [],
   "source": [
    "dict_of_prop = {}\n",
    "k = 0 \n",
    "for geneID in set(df_test.geneID):\n",
    "    for omega in [0.2,1.0]:\n",
    "        for CpG in [1,4,8]:\n",
    "            print(\".\",end=\"\")\n",
    "            for repID in range(0,10):\n",
    "                    prop_v: float = df_test.loc[(df_test[\"CpG\"]==CpG)&(df_test[\"omega\"]==omega)&(df_test[\"geneID\"]==geneID)&(df_test[\"draw\"]==repID)][\"prop\"].to_numpy()[0]\n",
    "                    dict_of_prop[k] = {\n",
    "                        \"test 95\": 1 if prop_v > 0.95 else 0,\n",
    "                        \"test 90\": 1 if prop_v > 0.90 else 0,\n",
    "                        \"test 80\": 1 if prop_v > 0.80 else 0,\n",
    "                        \"test 70\": 1 if prop_v > 0.70 else 0,\n",
    "                        \"geneID\": geneID,\n",
    "                        \"draw\": repID,\n",
    "                        \"omega\":omega,\n",
    "                        \"CpG\":CpG,\n",
    "                    }\n",
    "                    k+=1"
   ]
  },
  {
   "cell_type": "code",
   "execution_count": null,
   "metadata": {},
   "outputs": [],
   "source": [
    "df_test_count:pd.DataFrame = pd.DataFrame.from_dict(data=dict_of_prop, orient=\"index\")\n",
    "df_test_count"
   ]
  },
  {
   "cell_type": "code",
   "execution_count": null,
   "metadata": {},
   "outputs": [],
   "source": [
    "df_test_count.groupby(by=[\"omega\",\"CpG\"])[[\"test 95\",\"test 90\", \"test 80\",\"test 70\"]].agg([np.sum,\"count\"]).reset_index()"
   ]
  },
  {
   "cell_type": "markdown",
   "metadata": {},
   "source": [
    "## Simulations M0GTR 2x, 5x, 10x TBL"
   ]
  },
  {
   "cell_type": "code",
   "execution_count": null,
   "metadata": {},
   "outputs": [],
   "source": [
    "input_dir: str = ROOT_dir+\"/outputs/simulation/m0gtr/stats_gtrg4/\"\n",
    "pattern: str = \"*-GTRG4-0.2-?-*-?-A_suffdistatmap_DINT.tsv\"\n",
    "df: pd.DataFrame = concat(input_dir=input_dir, pattern=pattern)\n",
    "df.shape"
   ]
  },
  {
   "cell_type": "code",
   "execution_count": null,
   "metadata": {},
   "outputs": [],
   "source": [
    "df[\"lambda_CpG\"] = df[\"CG>TG|CA\"] / df[\"CG\"]\n",
    "dict_of_count = {}\n",
    "k = 0 \n",
    "for geneID in set(df.geneID):\n",
    "    for omega in [0.2]:\n",
    "        for CpG in [1,4,8]:\n",
    "            for tbl in [2,5,10]:\n",
    "                print(\".\",end=\"\")\n",
    "                for repID in range(0,10):\n",
    "                    for mcmcID in set(df.mcmcID):\n",
    "                        v_post: float = df.loc[(df[\"tbl\"]==tbl)&(df[\"CpG\"]==CpG)&(df[\"omega\"]==omega)&(df[\"geneID\"]==geneID)&(df[\"draw\"]==repID)&(df[\"mcmcID\"]==mcmcID)&(df[\"type\"]==\"post\")][\"lambda_CpG\"].to_numpy()[0]\n",
    "                        v_pred: float = df.loc[(df[\"tbl\"]==tbl)&(df[\"CpG\"]==CpG)&(df[\"omega\"]==omega)&(df[\"geneID\"]==geneID)&(df[\"draw\"]==repID)&(df[\"mcmcID\"]==mcmcID)&(df[\"type\"]==\"pred\")][\"lambda_CpG\"].to_numpy()[0]\n",
    "                        dict_of_count[k] = {\n",
    "                                            \"geneID\": geneID,\n",
    "                                            \"draw\": repID,\n",
    "                                            \"omega\":omega,\n",
    "                                            \"CpG\":CpG,\n",
    "                                            \"tbl\":tbl,\n",
    "                                            \"mcmcID\": mcmcID,\n",
    "                                            \"test\" : 1 if v_post > v_pred else 0\n",
    "                                            }\n",
    "                        k+=1"
   ]
  },
  {
   "cell_type": "code",
   "execution_count": null,
   "metadata": {},
   "outputs": [],
   "source": [
    "df_test: pd.DataFrame = pd.DataFrame.from_dict(data=dict_of_count, orient=\"index\")\n",
    "df_test.groupby(by=[\"geneID\",\"omega\",\"CpG\",\"tbl\",\"draw\"])[\"test\"].agg([prop,\"count\"]).reset_index().to_csv(ROOT_dir+\"/reports/m0gtr_tbl_lambda_CpG.tsv\", sep=\"\\t\")\n",
    "df_test = df_test.groupby(by=[\"geneID\",\"omega\",\"CpG\",\"tbl\",\"draw\"])[\"test\"].agg([prop,\"count\" ]).reset_index()"
   ]
  },
  {
   "cell_type": "code",
   "execution_count": null,
   "metadata": {},
   "outputs": [],
   "source": [
    "df_test"
   ]
  },
  {
   "cell_type": "code",
   "execution_count": null,
   "metadata": {},
   "outputs": [],
   "source": [
    "dict_of_prop = {}\n",
    "k = 0 \n",
    "for geneID in set(df.geneID):\n",
    "    for omega in [0.2]:\n",
    "        for CpG in [1,4,8]:\n",
    "            for tbl in [2,5,10]:\n",
    "                print(\".\",end=\"\")\n",
    "                for repID in range(0,10):\n",
    "                        prop_v: float = df_test.loc[(df_test[\"tbl\"]==tbl)&(df_test[\"CpG\"]==CpG)&(df_test[\"omega\"]==omega)&(df_test[\"geneID\"]==geneID)&(df_test[\"draw\"]==repID)][\"prop\"].to_numpy()[0]\n",
    "                        dict_of_prop[k] = {\n",
    "                            \"test 95\": 1 if prop_v > 0.95 else 0,\n",
    "                            \"test 90\": 1 if prop_v > 0.90 else 0,\n",
    "                            \"test 80\": 1 if prop_v > 0.80 else 0,\n",
    "                            \"test 70\": 1 if prop_v > 0.70 else 0,\n",
    "                            \"geneID\": geneID,\n",
    "                            \"draw\": repID,\n",
    "                            \"omega\":omega,\n",
    "                            \"CpG\":CpG,\n",
    "                            \"tbl\":tbl\n",
    "                        }\n",
    "                        k+=1"
   ]
  },
  {
   "cell_type": "code",
   "execution_count": null,
   "metadata": {},
   "outputs": [],
   "source": [
    "df_test_count:pd.DataFrame = pd.DataFrame.from_dict(data=dict_of_prop, orient=\"index\")\n",
    "df_test_count"
   ]
  },
  {
   "cell_type": "code",
   "execution_count": null,
   "metadata": {},
   "outputs": [],
   "source": [
    "df_test_count.groupby(by=[\"omega\",\"CpG\",\"tbl\"])[[\"test 95\",\"test 90\", \"test 80\",\"test 70\"]].agg([np.sum,\"count\"]).reset_index()"
   ]
  },
  {
   "cell_type": "markdown",
   "metadata": {},
   "source": [
    "## Empirical GTR+G"
   ]
  },
  {
   "cell_type": "code",
   "execution_count": null,
   "metadata": {},
   "outputs": [],
   "source": [
    "input_dir: str = ROOT_dir+\"/outputs/empirical/stats_gtrg4/\"\n",
    "pattern: str = \"*-A_suffdistatmap_DINT.tsv\"\n",
    "df: pd.DataFrame = concat(input_dir=input_dir, pattern=pattern)"
   ]
  },
  {
   "cell_type": "code",
   "execution_count": null,
   "metadata": {},
   "outputs": [],
   "source": [
    "df[\"lambda_CpG\"] = df[\"CG>TG|CA\"] / df[\"CG\"]\n",
    "dict_of_count = {}\n",
    "k = 0\n",
    "repID = \"A\"\n",
    "for geneID in set(df.geneID):\n",
    "    print(\".\",end=\"\")\n",
    "    for mcmcID in set(df.mcmcID):\n",
    "        v_post: float = df.loc[(df[\"geneID\"]==geneID)&(df[\"mcmcID\"]==mcmcID)&(df[\"type\"]==\"post\")][\"lambda_CpG\"].to_numpy()[0]\n",
    "        v_pred: float = df.loc[(df[\"geneID\"]==geneID)&(df[\"mcmcID\"]==mcmcID)&(df[\"type\"]==\"pred\")][\"lambda_CpG\"].to_numpy()[0]\n",
    "        dict_of_count[k] = {\n",
    "                            \"geneID\": geneID,\n",
    "                            \"repID\": repID,\n",
    "                            \"mcmcID\": mcmcID,\n",
    "                            \"test\" : 1 if v_post > v_pred else 0\n",
    "            \n",
    "                            }\n",
    "        k+=1"
   ]
  },
  {
   "cell_type": "code",
   "execution_count": null,
   "metadata": {},
   "outputs": [],
   "source": [
    "df_test: pd.DataFrame = pd.DataFrame.from_dict(data=dict_of_count, orient=\"index\")\n",
    "df_test.groupby(by=[\"geneID\"])[\"test\"].agg([prop,\"count\"]).to_csv(ROOT_dir+\"/reports/empirical_lambda_CpG.tsv\", sep=\"\\t\")\n",
    "df_test.groupby(by=[\"geneID\"])[\"test\"].agg([prop,\"count\"])"
   ]
  },
  {
   "cell_type": "code",
   "execution_count": null,
   "metadata": {},
   "outputs": [],
   "source": [
    "np.round(np.sum(df_test.groupby(by=[\"geneID\"])[\"test\"].agg([prop]) >= 0.95) / df_test.groupby(by=[\"geneID\"])[\"test\"].agg([prop]).shape[0],2)"
   ]
  },
  {
   "cell_type": "code",
   "execution_count": null,
   "metadata": {},
   "outputs": [],
   "source": [
    "np.round(np.sum(df_test.groupby(by=[\"geneID\"])[\"test\"].agg([prop]) >= 0.90) / df_test.groupby(by=[\"geneID\"])[\"test\"].agg([prop]).shape[0],2)"
   ]
  },
  {
   "cell_type": "code",
   "execution_count": null,
   "metadata": {},
   "outputs": [],
   "source": [
    "np.round(np.sum(df_test.groupby(by=[\"geneID\"])[\"test\"].agg([prop]) >= 0.99) / df_test.groupby(by=[\"geneID\"])[\"test\"].agg([prop]).shape[0],2)"
   ]
  },
  {
   "cell_type": "markdown",
   "metadata": {},
   "source": [
    " ### Empirical CATGTR+G"
   ]
  },
  {
   "cell_type": "code",
   "execution_count": null,
   "metadata": {},
   "outputs": [],
   "source": [
    "input_dir: str = ROOT_dir+\"/outputs/empirical/stats_catgtrg4/\"\n",
    "pattern: str = \"*-A_suffdistatmap_DINT.tsv\"\n",
    "df: pd.DataFrame = concat(input_dir=input_dir, pattern=pattern)"
   ]
  },
  {
   "cell_type": "code",
   "execution_count": null,
   "metadata": {},
   "outputs": [],
   "source": [
    "df[\"lambda_CpG\"] = df[\"CG>TG|CA\"] / df[\"CG\"]\n",
    "dict_of_count = {}\n",
    "k = 0\n",
    "repID = \"A\"\n",
    "for geneID in set(df.geneID):\n",
    "    print(\".\",end=\"\")\n",
    "    for mcmcID in set(df.mcmcID):\n",
    "        v_post: float = df.loc[(df[\"geneID\"]==geneID)&(df[\"mcmcID\"]==mcmcID)&(df[\"type\"]==\"post\")][\"lambda_CpG\"].to_numpy()[0]\n",
    "        v_pred: float = df.loc[(df[\"geneID\"]==geneID)&(df[\"mcmcID\"]==mcmcID)&(df[\"type\"]==\"pred\")][\"lambda_CpG\"].to_numpy()[0]\n",
    "        dict_of_count[k] = {\n",
    "                            \"geneID\": geneID,\n",
    "                            \"repID\": repID,\n",
    "                            \"mcmcID\": mcmcID,\n",
    "                            \"test\" : 1 if v_post > v_pred else 0\n",
    "            \n",
    "                            }\n",
    "        k+=1"
   ]
  },
  {
   "cell_type": "code",
   "execution_count": null,
   "metadata": {},
   "outputs": [],
   "source": [
    "df_test: pd.DataFrame = pd.DataFrame.from_dict(data=dict_of_count, orient=\"index\")\n",
    "df_test.groupby(by=[\"geneID\"])[\"test\"].agg([prop,\"count\"]).reset_index().to_csv(ROOT_dir+\"/reports/m0gtr_tbl_lambda_CpG.tsv\", sep=\"\\t\")\n",
    "df_test = df_test.groupby(by=[\"geneID\"])[\"test\"].agg([prop,\"count\" ]).reset_index()"
   ]
  },
  {
   "cell_type": "code",
   "execution_count": null,
   "metadata": {},
   "outputs": [],
   "source": [
    "dict_of_prop = {}\n",
    "k = 0 \n",
    "for geneID in set(df.geneID):\n",
    "    prop_v: float = df_test.loc[(df_test[\"geneID\"]==geneID)][\"prop\"].to_numpy()[0]\n",
    "    dict_of_prop[k] = {\n",
    "        \"test 95\": 1 if prop_v > 0.95 else 0,\n",
    "        \"test 90\": 1 if prop_v > 0.90 else 0,\n",
    "        \"test 80\": 1 if prop_v > 0.80 else 0,\n",
    "        \"test 70\": 1 if prop_v > 0.70 else 0,\n",
    "        \"geneID\": geneID,\n",
    "        \"draw\": repID,\n",
    "    }\n",
    "    k+=1"
   ]
  },
  {
   "cell_type": "code",
   "execution_count": null,
   "metadata": {},
   "outputs": [],
   "source": [
    "df_test_count:pd.DataFrame = pd.DataFrame.from_dict(data=dict_of_prop, orient=\"index\")\n",
    "df_test_count"
   ]
  },
  {
   "cell_type": "code",
   "execution_count": null,
   "metadata": {},
   "outputs": [],
   "source": [
    "df_test_count[[\"test 95\",\"test 90\", \"test 80\",\"test 70\"]].agg([np.sum,\"count\"]).reset_index()"
   ]
  },
  {
   "cell_type": "code",
   "execution_count": null,
   "metadata": {},
   "outputs": [],
   "source": [
    "100/137"
   ]
  },
  {
   "cell_type": "code",
   "execution_count": null,
   "metadata": {},
   "outputs": [],
   "source": [
    "106/137"
   ]
  },
  {
   "cell_type": "code",
   "execution_count": null,
   "metadata": {},
   "outputs": [],
   "source": []
  },
  {
   "cell_type": "markdown",
   "metadata": {},
   "source": [
    "## PPRED "
   ]
  },
  {
   "attachments": {},
   "cell_type": "markdown",
   "metadata": {},
   "source": [
    "### Empirical"
   ]
  },
  {
   "cell_type": "code",
   "execution_count": null,
   "metadata": {},
   "outputs": [],
   "source": [
    "list_of_df_obs = []\n",
    "for geneID in list_of_geneID_emp:\n",
    "    try:\n",
    "        list_of_df_obs += [pd.read_csv(ROOT_dir+\"/outputs/empirical/ppred_test/stats/\"+geneID+\"-1_0-OBSERVED.tsv\",sep=\"\\t\",index_col=0)]\n",
    "    except Exception as e:\n",
    "        print(\"something wrong with %s\"% f)\n",
    "df_obs_concat = pd.concat(list_of_df_obs)\n",
    "assert df_obs_concat.shape[0] == 137"
   ]
  },
  {
   "cell_type": "code",
   "execution_count": null,
   "metadata": {},
   "outputs": [],
   "source": [
    "df_obs_concat.round(3).to_csv(ROOT_dir + \"/reports/XpY_empirical.csv\", sep=\"\\t\")"
   ]
  },
  {
   "cell_type": "code",
   "execution_count": null,
   "metadata": {},
   "outputs": [],
   "source": [
    "from pandas.plotting import scatter_matrix\n"
   ]
  },
  {
   "cell_type": "code",
   "execution_count": null,
   "metadata": {},
   "outputs": [],
   "source": [
    "c: List[str] = [x+\"p\"+y for x, y in list(product([\"A\", \"C\", \"G\", \"T\"], [\"A\", \"C\", \"G\", \"T\"]))]\n",
    "scatter_matrix(df_obs_concat[c], alpha=0.2, figsize=(6, 6), diagonal=\"kde\")\n"
   ]
  },
  {
   "attachments": {},
   "cell_type": "markdown",
   "metadata": {},
   "source": [
    "#### GTR+G"
   ]
  },
  {
   "cell_type": "code",
   "execution_count": null,
   "metadata": {},
   "outputs": [],
   "source": [
    "list_of_df_ppred = []\n",
    "for geneID in list_of_geneID_emp:\n",
    "    try:\n",
    "        list_of_df_ppred += [pd.read_csv(ROOT_dir+\"/outputs/empirical/ppred_test/stats/\"+geneID+\"-GTRG4-A_ppred.tsv\",sep=\"\\t\",index_col=0)]\n",
    "    except Exception as e:\n",
    "        print(\"something wrong with %s\"% geneID)\n",
    "df_ppred_concat = pd.concat(list_of_df_ppred)"
   ]
  },
  {
   "cell_type": "code",
   "execution_count": null,
   "metadata": {},
   "outputs": [],
   "source": [
    "assert len(set(df_ppred_concat[\"geneID\"])) == 137 "
   ]
  },
  {
   "cell_type": "code",
   "execution_count": null,
   "metadata": {},
   "outputs": [],
   "source": [
    "dict_of_stats = {}\n",
    "k=0\n",
    "for geneID in list(set(df_ppred_concat.geneID)):\n",
    "    dict_of_stats[k] = {\n",
    "            \"geneID\": geneID,\n",
    "        }\n",
    "    for x, y in list(product([\"A\", \"C\", \"G\", \"T\"], [\"A\", \"C\", \"G\", \"T\"])):\n",
    "        XpY = x + \"p\" + y\n",
    "        XpY_ppred: np.array = df_ppred_concat.loc[(df_ppred_concat[\"geneID\"]==geneID)][XpY].to_numpy()\n",
    "        XpY_obs: float = df_obs_concat.loc[df_obs_concat[\"geneID\"]==geneID][XpY].to_numpy()[0]\n",
    "        \n",
    "        dict_of_stats[k].update({\n",
    "                XpY+\"_test\" : np.sum(XpY_ppred > XpY_obs)/len(XpY_ppred),\n",
    "                XpY+\"_mean\" : np.mean(XpY_ppred),\n",
    "                XpY+\"_std\" : np.std(XpY_ppred),\n",
    "                XpY+\"_obs\": XpY_obs,\n",
    "                })\n",
    "        \n",
    "    k+=1"
   ]
  },
  {
   "cell_type": "code",
   "execution_count": null,
   "metadata": {},
   "outputs": [],
   "source": [
    "sign(pd.DataFrame.from_dict(data=dict_of_stats,orient=\"index\")[[\"TpA_test\"]])"
   ]
  },
  {
   "cell_type": "code",
   "execution_count": null,
   "metadata": {},
   "outputs": [],
   "source": [
    "pd.DataFrame.from_dict(data=dict_of_stats,orient=\"index\")[[\"CpG_test\"]].agg([sign]).sort_values(by=[\"sign\"],axis=1).round(3).to_csv(ROOT_dir + \"/reports/CpG_test_empirical_GTRG.csv\", sep=\"\\t\")"
   ]
  },
  {
   "cell_type": "code",
   "execution_count": null,
   "metadata": {},
   "outputs": [],
   "source": [
    "pd.DataFrame.from_dict(data=dict_of_stats,orient=\"index\")[[x+\"p\"+y+\"_test\"for x, y in list(product([\"A\", \"C\", \"G\", \"T\"], [\"A\", \"C\", \"G\", \"T\"]))]].agg([sign]).sort_values(by=[\"sign\"],axis=1).round(3).to_csv(ROOT_dir + \"/reports/XpY_test_empirical_GTRG.csv\", sep=\"\\t\")"
   ]
  },
  {
   "cell_type": "code",
   "execution_count": null,
   "metadata": {},
   "outputs": [],
   "source": [
    "pd.DataFrame.from_dict(data=dict_of_stats,orient=\"index\")[[\"geneID\"]+[x+\"p\"+y+\"_test\"for x, y in list(product([\"A\", \"C\", \"G\", \"T\"], [\"A\", \"C\", \"G\", \"T\"]))]].to_csv(ROOT_dir + \"/reports/XpY_test_empirical_all_GTRG.csv\", sep=\"\\t\")"
   ]
  },
  {
   "cell_type": "code",
   "execution_count": null,
   "metadata": {},
   "outputs": [],
   "source": [
    "fig, axes = plt.subplots(1,2,sharex=True, sharey=\"row\", figsize=(6,4))\n",
    "axes = axes.ravel()\n",
    "list_of_subplots = [\"A\",\"B\"]\n",
    "k = 0\n",
    "obs = df_obs_concat.loc[df_obs_concat[\"geneID\"]== \"MEP1A\",[\"CpG\"]].values[0][0]\n",
    "pred = df_ppred_concat.loc[(df_ppred_concat[\"geneID\"]==\"MEP1A\"),[\"CpG\"]].values.reshape(1,-1)[0]\n",
    "weights_pred = np.ones_like(pred) / pred.shape[0]\n",
    "v_ratio = str(round(np.sum(obs > pred) / obs.size * 100, 2))\n",
    "bins = np.histogram(\n",
    "                    np.hstack([pred]), bins=20\n",
    "                )[1]\n",
    "axes[k].set_title(list_of_subplots[k], loc=\"left\")\n",
    "axes[k].set_xlabel(\"CpG frequency\")\n",
    "axes[k].hist(\n",
    "    [pred],\n",
    "    bins=bins,\n",
    "    color=\"blue\",\n",
    "    alpha=0.5,\n",
    "    stacked=False,\n",
    "    weights=[weights_pred],\n",
    "    label=[\"% \" + v_ratio],\n",
    ")\n",
    "# plt.axis('off')\n",
    "# plt.yaxis().set_visible(False)\n",
    "axes[k].axvline(obs, color=\"black\")\n",
    "# _ = axes.set_yticks([])\n",
    "# _ = axes.set_yticklabels([])\n",
    "axes[k].set_ylabel(\"Density\")\n",
    "\n",
    "k +=1\n",
    "obs = df_obs_concat.loc[df_obs_concat[\"geneID\"]== \"MEP1A\",[\"ApT\"]].values[0][0]\n",
    "pred = df_ppred_concat.loc[(df_ppred_concat[\"geneID\"]==\"MEP1A\"),[\"ApT\"]].values.reshape(1,-1)[0]\n",
    "weights_pred = np.ones_like(pred) / pred.shape[0]\n",
    "v_ratio = str(round(np.sum(obs > pred) / obs.size * 100, 2))\n",
    "bins = np.histogram(\n",
    "                    np.hstack([pred]), bins=20\n",
    "                )[1]\n",
    "axes[k].set_title(list_of_subplots[k], loc=\"left\")\n",
    "axes[k].set_xlabel(\"ApT frequency\")\n",
    "axes[k].hist(\n",
    "    [pred],\n",
    "    bins=bins,\n",
    "    color=\"blue\",\n",
    "    alpha=0.5,\n",
    "    stacked=False,\n",
    "    weights=[weights_pred],\n",
    "    label=[\"% \" + v_ratio],\n",
    ")\n",
    "# plt.axis('off')\n",
    "# plt.yaxis().set_visible(False)\n",
    "axes[k].axvline(obs, color=\"black\")\n",
    "\n",
    "\n",
    "fig.savefig(ROOT_dir + \"/reports/figure1.pdf\",dpi=300)"
   ]
  },
  {
   "attachments": {},
   "cell_type": "markdown",
   "metadata": {},
   "source": [
    "#### M0GTR"
   ]
  },
  {
   "cell_type": "code",
   "execution_count": null,
   "metadata": {},
   "outputs": [],
   "source": [
    "list_of_df_ppred = []\n",
    "for geneID in list_of_geneID_emp:\n",
    "    try:\n",
    "        list_of_df_ppred += [pd.read_csv(ROOT_dir+\"/outputs/empirical/ppred_test/stats/\"+geneID+\"-M0GTR-A_ppred.tsv\",sep=\"\\t\",index_col=0)]\n",
    "    except Exception as e:\n",
    "        print(\"something wrong with %s\"% geneID)\n",
    "df_ppred_concat = pd.concat(list_of_df_ppred)"
   ]
  },
  {
   "cell_type": "code",
   "execution_count": null,
   "metadata": {},
   "outputs": [],
   "source": [
    "assert len(set(df_ppred_concat[\"geneID\"])) == 137 "
   ]
  },
  {
   "cell_type": "code",
   "execution_count": null,
   "metadata": {},
   "outputs": [],
   "source": [
    "dict_of_stats = {}\n",
    "k=0\n",
    "for geneID in list(set(df_ppred_concat.geneID)):\n",
    "    dict_of_stats[k] = {\n",
    "            \"geneID\": geneID,\n",
    "        }\n",
    "    for x, y in list(product([\"A\", \"C\", \"G\", \"T\"], [\"A\", \"C\", \"G\", \"T\"])):\n",
    "        XpY = x + \"p\" + y\n",
    "        XpY_ppred: np.array = df_ppred_concat.loc[(df_ppred_concat[\"geneID\"]==geneID)][XpY].to_numpy()\n",
    "        XpY_obs: float = df_obs_concat.loc[df_obs_concat[\"geneID\"]==geneID][XpY].to_numpy()[0]\n",
    "        \n",
    "        dict_of_stats[k].update({\n",
    "                XpY+\"_test\" : np.sum(XpY_ppred > XpY_obs)/len(XpY_ppred),\n",
    "                XpY+\"_mean\" : np.mean(XpY_ppred),\n",
    "                XpY+\"_std\" : np.std(XpY_ppred),\n",
    "                XpY+\"_obs\": XpY_obs,\n",
    "                })\n",
    "        \n",
    "    k+=1"
   ]
  },
  {
   "cell_type": "code",
   "execution_count": null,
   "metadata": {},
   "outputs": [],
   "source": [
    "pd.DataFrame.from_dict(data=dict_of_stats,orient=\"index\")[[x+\"p\"+y+\"_test\"for x, y in list(product([\"A\", \"C\", \"G\", \"T\"], [\"A\", \"C\", \"G\", \"T\"]))]].agg([np.mean]).sort_values(by=[\"mean\"],axis=1).round(3).to_csv(ROOT_dir + \"/reports/XpY_test_GTRG.csv\", sep=\"\\t\")"
   ]
  },
  {
   "attachments": {},
   "cell_type": "markdown",
   "metadata": {},
   "source": [
    "### Simulation"
   ]
  },
  {
   "attachments": {},
   "cell_type": "markdown",
   "metadata": {},
   "source": [
    "#### GTR+G"
   ]
  },
  {
   "cell_type": "code",
   "execution_count": null,
   "metadata": {},
   "outputs": [],
   "source": [
    "list_of_df_obs = []\n",
    "k = 0 \n",
    "for geneID in list_of_geneID_simu:\n",
    "    for repID in range(0,10):\n",
    "        cur_df = pd.read_csv(ROOT_dir+\"/outputs/simulation/gtrg4/ppred_test/stats/\"+str(geneID)+\"-GTRG4-A-\"+str(repID)+\"-OBSERVED.tsv\",sep=\"\\t\", index_col=0)\n",
    "        list_of_df_obs += [cur_df]\n",
    "\n",
    "df_obs_concat = pd.concat(list_of_df_obs, ignore_index=True)"
   ]
  },
  {
   "attachments": {},
   "cell_type": "markdown",
   "metadata": {},
   "source": [
    "##### GTR+G"
   ]
  },
  {
   "cell_type": "code",
   "execution_count": null,
   "metadata": {},
   "outputs": [],
   "source": [
    "list_of_df_ppred = []\n",
    "k = 0 \n",
    "for geneID in list_of_geneID_simu:\n",
    "    for repID in range(0,10):\n",
    "        cur_df = pd.read_csv(ROOT_dir+\"/outputs/simulation/gtrg4/ppred_test/stats/\"+str(geneID)+\"-GTRG4-A-\"+str(repID)+\"-GTRG4-A_ppred.tsv\",sep=\"\\t\", index_col=0)\n",
    "        list_of_df_ppred += [cur_df]\n",
    "df_ppred_concat = pd.concat(list_of_df_ppred, ignore_index=True)"
   ]
  },
  {
   "cell_type": "code",
   "execution_count": null,
   "metadata": {},
   "outputs": [],
   "source": [
    "pd.DataFrame.from_dict(data=dict_of_stats,orient=\"index\")[[\"CpG_test\"]].agg([sign, \"count\"]).round(2)#.to_csv(ROOT_dir + \"/reports/CpG_test_simu_GTRG_GTRG.csv\", sep=\"\\t\")"
   ]
  },
  {
   "attachments": {},
   "cell_type": "markdown",
   "metadata": {},
   "source": [
    "#### M0GTR"
   ]
  },
  {
   "cell_type": "code",
   "execution_count": null,
   "metadata": {},
   "outputs": [],
   "source": [
    "list_of_df_obs = []\n",
    "k = 0 \n",
    "for geneID in list_of_geneID_simu:\n",
    "    for omega in [0.2,1]: #, 1.0\n",
    "        for CpG in [1,4,8]:\n",
    "            for TpA in [1,]:#4,8\n",
    "                for tbl in [1,10]:#2,5,\n",
    "                    print(\".\",end=\"\")\n",
    "                    for repID in range(0,10):\n",
    "                        cur_df = pd.read_csv(ROOT_dir+\"/outputs/simulation/m0gtr/ppred_test/stats/\"+str(geneID)+\"-M0GTR-\"+str(omega)+\"-\"+str(CpG)+\"-\"+str(TpA)+\"-\"+str(tbl)+\"-\"+str(repID)+\"-A-1_0-OBSERVED.tsv\",sep=\"\\t\", index_col=0)\n",
    "                        cur_df[\"tbl\"] = [tbl]*cur_df.shape[0]\n",
    "                        list_of_df_obs += [cur_df]\n",
    "\n",
    "df_obs_concat = pd.concat(list_of_df_obs, ignore_index=True)"
   ]
  },
  {
   "attachments": {},
   "cell_type": "markdown",
   "metadata": {},
   "source": [
    "#####  GTR+G "
   ]
  },
  {
   "cell_type": "code",
   "execution_count": null,
   "metadata": {},
   "outputs": [],
   "source": [
    "list_of_df_ppred = []\n",
    "k = 0 \n",
    "for geneID in list_of_geneID_simu:\n",
    "    for omega in [0.2,1]: #1.0\n",
    "        for CpG in [1,4,8]:\n",
    "            for TpA in [1]:#,4,8\n",
    "                for tbl in [1]: #,2,5\n",
    "                    print(\".\",end=\"\")\n",
    "                    for repID in range(0,10):\n",
    "                        cur_df = pd.read_csv(ROOT_dir+\"/outputs/simulation/m0gtr/ppred_test/stats/\"+str(geneID)+\"-GTRG4-\"+str(omega)+\"-\"+str(CpG)+\"-\"+str(TpA)+\"-\"+str(tbl)+\"-\"+str(repID)+\"-A_ppred.tsv\",sep=\"\\t\", index_col=0)\n",
    "                        cur_df[\"tbl\"] = [tbl]*cur_df.shape[0]\n",
    "                        list_of_df_ppred += [cur_df]\n",
    "df_ppred_concat = pd.concat(list_of_df_ppred, ignore_index=True)"
   ]
  },
  {
   "cell_type": "code",
   "execution_count": null,
   "metadata": {},
   "outputs": [],
   "source": [
    "dict_of_stats = {}\n",
    "k=0\n",
    "for geneID in list_of_geneID_simu:\n",
    "    for omega in [0.2,1]:\n",
    "        for CpG in [1,4,8]:\n",
    "            for TpA in [1,]:#\n",
    "                for tbl in [1]:#,2,5,10\n",
    "                    for drawID in range(0,10):\n",
    "                        dict_of_stats[k] = {\n",
    "                            \"geneID\": geneID,\n",
    "                            \"CpG\": CpG,\n",
    "                            \"TpA\": TpA,\n",
    "                            \"tbl\": tbl,\n",
    "                            \"omega\":omega,\n",
    "                            \"drawID\":drawID\n",
    "                        }\n",
    "                        for x, y in list(product([\"A\", \"C\", \"G\", \"T\"], [\"A\", \"C\", \"G\", \"T\"])):\n",
    "                            XpY = x + \"p\" + y\n",
    "\n",
    "                            XpY_ppred: np.array = df_ppred_concat.loc[(df_ppred_concat[\"tbl\"]==tbl)&(df_ppred_concat[\"geneID\"]==geneID)&(df_ppred_concat[\"omega\"]==omega)&(df_ppred_concat[\"CpGf\"]==CpG)&(df_ppred_concat[\"TpAf\"]==TpA)&(df_ppred_concat[\"draw\"]==drawID)][XpY].to_numpy()\n",
    "                            XpY_obs: float = df_obs_concat.loc[(df_obs_concat[\"tbl\"]==tbl)&(df_obs_concat[\"geneID\"]==geneID)&(df_obs_concat[\"omega\"]==omega)&(df_obs_concat[\"CpGf\"]==CpG)&(df_obs_concat[\"TpAf\"]==TpA)&(df_obs_concat[\"draw\"]==drawID)][XpY].to_numpy()[0]\n",
    "                            dict_of_stats[k].update({\n",
    "                                XpY+\"_test\" : np.sum(XpY_ppred > XpY_obs)/len(XpY_ppred),\n",
    "                                XpY+\"_mean\" : np.mean(XpY_ppred),\n",
    "                                XpY+\"_std\" : np.std(XpY_ppred),\n",
    "                                XpY+\"_obs\":XpY_obs,\n",
    "                            })\n",
    "                        k+=1"
   ]
  },
  {
   "cell_type": "code",
   "execution_count": null,
   "metadata": {},
   "outputs": [],
   "source": [
    "pd.DataFrame.from_dict(data=dict_of_stats,orient=\"index\").groupby(by=[\"CpG\",\"TpA\",\"tbl\",\"omega\"])[[\"CpG_test\"]].agg([sign, \"count\"]).round(2).to_csv(ROOT_dir + \"/reports/CpG_test_simu_M0GTR_GTRG.csv\", sep=\"\\t\")"
   ]
  },
  {
   "cell_type": "code",
   "execution_count": null,
   "metadata": {},
   "outputs": [],
   "source": [
    "pd.DataFrame.from_dict(data=dict_of_stats,orient=\"index\").groupby(by=[\"CpG\",\"TpA\",\"tbl\",\"omega\"])[[x+\"p\"+y+\"_test\"for x, y in list(product([\"A\", \"C\", \"G\", \"T\"], [\"A\", \"C\", \"G\", \"T\"]))]].agg([sign]).round(2).to_csv(ROOT_dir + \"/reports/XpY_test_simu_M0GTR_GTRG.csv\", sep=\"\\t\")"
   ]
  },
  {
   "attachments": {},
   "cell_type": "markdown",
   "metadata": {},
   "source": [
    "##### M0GTR "
   ]
  },
  {
   "cell_type": "code",
   "execution_count": null,
   "metadata": {},
   "outputs": [],
   "source": [
    "list_of_df_ppred = []\n",
    "k = 0 \n",
    "for geneID in list_of_geneID_simu:\n",
    "    for omega in [0.2,1]: #1.0\n",
    "        for CpG in [1,4,8]:\n",
    "            for TpA in [1]:#4,8\n",
    "                for tbl in [1,]:#2,5,\n",
    "                    print(\".\",end=\"\")\n",
    "                    for repID in range(0,10):\n",
    "                        cur_df = pd.read_csv(ROOT_dir+\"/outputs/simulation/m0gtr/ppred_test/stats/\"+str(geneID)+\"-M0GTR-\"+str(omega)+\"-\"+str(CpG)+\"-\"+str(TpA)+\"-\"+str(tbl)+\"-\"+str(repID)+\"-A_ppred.tsv\",sep=\"\\t\", index_col=0)\n",
    "                        cur_df[\"tbl\"] = [tbl]*cur_df.shape[0]\n",
    "                        list_of_df_ppred += [cur_df]\n",
    "df_ppred_concat = pd.concat(list_of_df_ppred, ignore_index=True)\n"
   ]
  },
  {
   "cell_type": "code",
   "execution_count": null,
   "metadata": {},
   "outputs": [],
   "source": [
    "dict_of_stats = {}\n",
    "k=0\n",
    "for geneID in list_of_geneID_simu:\n",
    "    for omega in [0.2,1]:\n",
    "        for CpG in [1,4,8]:\n",
    "            for TpA in [1,]:#\n",
    "                for tbl in [1,]:#,2,5,10\n",
    "                    for drawID in range(0,10):\n",
    "                        dict_of_stats[k] = {\n",
    "                            \"geneID\": geneID,\n",
    "                            \"CpG\": CpG,\n",
    "                            \"TpA\": TpA,\n",
    "                            \"tbl\": tbl,\n",
    "                            \"omega\":omega,\n",
    "                            \"drawID\":drawID\n",
    "                        }\n",
    "                        for x, y in list(product([\"A\", \"C\", \"G\", \"T\"], [\"A\", \"C\", \"G\", \"T\"])):\n",
    "                            XpY = x + \"p\" + y\n",
    "\n",
    "                            XpY_ppred: np.array = df_ppred_concat.loc[(df_ppred_concat[\"tbl\"]==tbl)&(df_ppred_concat[\"geneID\"]==geneID)&(df_ppred_concat[\"omega\"]==omega)&(df_ppred_concat[\"CpGf\"]==CpG)&(df_ppred_concat[\"TpAf\"]==TpA)&(df_ppred_concat[\"draw\"]==drawID)][XpY].to_numpy()\n",
    "                            XpY_obs: float = df_obs_concat.loc[(df_obs_concat[\"tbl\"]==tbl)&(df_obs_concat[\"geneID\"]==geneID)&(df_obs_concat[\"omega\"]==omega)&(df_obs_concat[\"CpGf\"]==CpG)&(df_obs_concat[\"TpAf\"]==TpA)&(df_obs_concat[\"draw\"]==drawID)][XpY].to_numpy()[0]\n",
    "                            dict_of_stats[k].update({\n",
    "                                XpY+\"_test\" : np.sum(XpY_ppred > XpY_obs)/len(XpY_ppred),\n",
    "                                XpY+\"_mean\" : np.mean(XpY_ppred),\n",
    "                                XpY+\"_std\" : np.std(XpY_ppred),\n",
    "                                XpY+\"_obs\":XpY_obs,\n",
    "                            })\n",
    "                        k+=1"
   ]
  },
  {
   "cell_type": "code",
   "execution_count": null,
   "metadata": {},
   "outputs": [],
   "source": [
    "pd.DataFrame.from_dict(data=dict_of_stats,orient=\"index\").groupby(by=[\"CpG\",\"TpA\",\"tbl\",\"omega\"])[[\"CpG_test\"]].agg([sign, \"count\"]).round(3).to_csv(ROOT_dir + \"/reports/CpG_test_simu_M0GTR_M0GTR.csv\", sep=\"\\t\")"
   ]
  },
  {
   "cell_type": "code",
   "execution_count": null,
   "metadata": {},
   "outputs": [],
   "source": [
    "pd.DataFrame.from_dict(data=dict_of_stats,orient=\"index\").groupby(by=[\"CpG\",\"TpA\",\"tbl\",\"omega\"])[[x+\"p\"+y+\"_test\"for x, y in list(product([\"A\", \"C\", \"G\", \"T\"], [\"A\", \"C\", \"G\", \"T\"]))]].agg([sign]).to_csv(ROOT_dir + \"/reports/XpY_test_simu_M0GTR_M0GTR.csv\", sep=\"\\t\")"
   ]
  },
  {
   "attachments": {},
   "cell_type": "markdown",
   "metadata": {},
   "source": [
    "## Mappings\n"
   ]
  },
  {
   "cell_type": "markdown",
   "metadata": {},
   "source": [
    "### Empirical\n"
   ]
  },
  {
   "cell_type": "code",
   "execution_count": null,
   "metadata": {},
   "outputs": [],
   "source": [
    "def recover_data(input_dir, pattern)-> List[pd.DataFrame]:\n",
    "    list_of_df: List[pd.DataFrame] = []\n",
    "    list_of_files: List[str] = glob.glob(input_dir + pattern)\n",
    "    for f in list_of_files:\n",
    "        GENEID = f.split(\"/\")[-1].split(\"-\")[0]\n",
    "        df: pd.DataFrame = pd.read_csv(f, sep=\"\\t\")\n",
    "        df[\"geneID\"] = [GENEID]*df.shape[0]\n",
    "        list_of_df += [df]\n",
    "    return pd.concat(list_of_df,ignore_index=True)"
   ]
  },
  {
   "attachments": {},
   "cell_type": "markdown",
   "metadata": {},
   "source": [
    "#### GTR+G"
   ]
  },
  {
   "cell_type": "code",
   "execution_count": null,
   "metadata": {},
   "outputs": [],
   "source": [
    "input_dir = ROOT_dir + \"/outputs/empirical/pbmpi_gtrg4/\"\n",
    "pattern = \"*-A.TsCpGRate\"\n",
    "df_concat_gtrg4 = recover_data(input_dir=input_dir,pattern=pattern)"
   ]
  },
  {
   "cell_type": "code",
   "execution_count": null,
   "metadata": {},
   "outputs": [],
   "source": [
    "df_concat_gtrg4[\"CpGRate\"] = (df_concat_gtrg4[\"CG>TG\"]+df_concat_gtrg4[\"CG>CA\"])/df_concat_gtrg4[\"CG\"]\n",
    "df_concat_gtrg4[\"TpARate\"] = (df_concat_gtrg4[\"TA>CA\"]+df_concat_gtrg4[\"TA>TG\"])/df_concat_gtrg4[\"TA\"]\n",
    "df_concat_gtrg4.groupby([\"geneID\",\"type\"]).agg([np.mean,np.std])[[\"CpGRate\",\"TpARate\",\"CG>TG\",\"CG>CA\",\"CG\",\"TA>CA\",\"TA>TG\",\"TA\"]].round(2)"
   ]
  },
  {
   "cell_type": "code",
   "execution_count": null,
   "metadata": {},
   "outputs": [],
   "source": [
    "dict_of_stats = {}\n",
    "k = 0\n",
    "rowiter = iter(df_concat_gtrg4.iterrows())\n",
    "while ((row_post := next(rowiter, None)) is not None):\n",
    "    row_pred = next(rowiter)\n",
    "    dict_of_stats[k] = {\n",
    "        \"CpGRate_post\": row_post[1][\"CpGRate\"],\n",
    "        \"CpGRate_pred\": row_pred[1][\"CpGRate\"],\n",
    "        \"CpGRate_comp\": row_post[1][\"CpGRate\"]>row_pred[1][\"CpGRate\"],\n",
    "        \"TpARate_post\": row_post[1][\"TpARate\"], \n",
    "        \"TpARate_pred\": row_pred[1][\"TpARate\"],\n",
    "        \"TpARate_comp\": row_post[1][\"TpARate\"]>row_pred[1][\"TpARate\"],\n",
    "        \"mcmcID\": row_post[1][\"mcmcID\"],\n",
    "        \"geneID\": row_post[1][\"geneID\"],\n",
    "    }\n",
    "    k+=1"
   ]
  },
  {
   "cell_type": "code",
   "execution_count": null,
   "metadata": {},
   "outputs": [],
   "source": [
    "df_TsCpGRate = pd.DataFrame.from_dict(data=dict_of_stats,orient=\"index\")\n",
    "df_comp = df_TsCpGRate.groupby([\"geneID\",])[[\"CpGRate_comp\",\"TpARate_comp\"]]\\\n",
    "    .agg([np.mean]).droplevel(level=1,axis=1).reset_index()"
   ]
  },
  {
   "cell_type": "code",
   "execution_count": null,
   "metadata": {},
   "outputs": [],
   "source": [
    "df_comp[\"TpARate_comp\"].hist()"
   ]
  },
  {
   "cell_type": "code",
   "execution_count": null,
   "metadata": {},
   "outputs": [],
   "source": [
    "df_comp.sort_values(by=[\"geneID\"]).to_csv(ROOT_dir + \"/reports/map_test_gtrg4.csv\",sep=\"\\t\")"
   ]
  },
  {
   "cell_type": "code",
   "execution_count": null,
   "metadata": {},
   "outputs": [],
   "source": [
    "np.sum(df_comp[\"CpGRate_comp\"] > 0.95) / 137"
   ]
  },
  {
   "cell_type": "code",
   "execution_count": null,
   "metadata": {},
   "outputs": [],
   "source": [
    "dict_of_stats_ = {}\n",
    "k=0\n",
    "for geneID in list_of_geneID_emp:\n",
    "    test = df_comp.loc[(df_comp[\"geneID\"]== geneID),\"CpGRate_comp\"]\n",
    "    CpGRate_pvalue = (np.sum(test > 0.95))/test.shape[0]\n",
    "    dict_of_stats_[k] = {\n",
    "        \"geneID\": geneID,\n",
    "        \"pvalue\": CpGRate_pvalue,\n",
    "    }\n",
    "    k +=1\n",
    "pd.DataFrame.from_dict(data=dict_of_stats_,orient=\"index\")"
   ]
  },
  {
   "attachments": {},
   "cell_type": "markdown",
   "metadata": {},
   "source": [
    "#### M0GTR"
   ]
  },
  {
   "cell_type": "code",
   "execution_count": null,
   "metadata": {},
   "outputs": [],
   "source": [
    "input_dir = ROOT_dir + \"/outputs/empirical/pbmpi_m0gtr/\"\n",
    "pattern = \"*-A.TsCpGRate\"\n",
    "df_concat_m0gtr = recover_data(input_dir=input_dir,pattern=pattern)"
   ]
  },
  {
   "cell_type": "code",
   "execution_count": null,
   "metadata": {},
   "outputs": [],
   "source": [
    "df_concat_m0gtr.groupby([\"geneID\",\"type\"]).agg([\"count\"])"
   ]
  },
  {
   "cell_type": "code",
   "execution_count": null,
   "metadata": {},
   "outputs": [],
   "source": [
    "df_concat_m0gtr[\"CpGRate\"] = df_concat_m0gtr[\"NSubSynTsCpG23\"]/df_concat_m0gtr[\"TcodonNCG\"]\n",
    "df_concat_m0gtr[\"TpARate\"] = df_concat_m0gtr[\"NSubSynTsTpA23\"]/df_concat_m0gtr[\"TcodonNTA\"]\n",
    "df_concat_m0gtr.groupby([\"geneID\",\"type\"]).agg([np.mean,])[[\"TcodonNCG\",\"NSubSynTsCpG23\",\"TcodonNTA\",\"NSubSynTsTpA23\",\"CpGRate\",\"TpARate\",\"NSub\",\"NNSynSyb\",\"NSynSub\"]].round(2)"
   ]
  },
  {
   "cell_type": "code",
   "execution_count": null,
   "metadata": {},
   "outputs": [],
   "source": [
    "dict_of_stats = {}\n",
    "k = 0\n",
    "rowiter = iter(df_concat_m0gtr.iterrows())\n",
    "while ((row_post := next(rowiter, None)) is not None):\n",
    "    row_pred = next(rowiter)\n",
    "    dict_of_stats[k] = {\n",
    "        \"CpGRate_post\": row_post[1][\"CpGRate\"],\n",
    "        \"CpGRate_pred\": row_pred[1][\"CpGRate\"],\n",
    "        \"CpGRate_comp\": row_post[1][\"CpGRate\"]>row_pred[1][\"CpGRate\"],\n",
    "        \"TpARate_post\": row_post[1][\"TpARate\"], \n",
    "        \"TpARate_pred\": row_pred[1][\"TpARate\"],\n",
    "        \"TpARate_comp\": row_post[1][\"TpARate\"]>row_pred[1][\"TpARate\"],\n",
    "        \"mcmcID\": row_post[1][\"mcmcID\"],\n",
    "        \"geneID\": row_post[1][\"geneID\"],\n",
    "    }\n",
    "    k+=1"
   ]
  },
  {
   "cell_type": "code",
   "execution_count": null,
   "metadata": {},
   "outputs": [],
   "source": [
    "df_TsCpGRate = pd.DataFrame.from_dict(data=dict_of_stats,orient=\"index\")\n",
    "df_comp = df_TsCpGRate.groupby([\"geneID\",])[[\"CpGRate_comp\",\"TpARate_comp\"]]\\\n",
    "    .agg([np.mean]).droplevel(level=1,axis=1).reset_index()"
   ]
  },
  {
   "cell_type": "code",
   "execution_count": null,
   "metadata": {},
   "outputs": [],
   "source": [
    "df_comp[\"CpGRate_comp\"].hist()"
   ]
  },
  {
   "cell_type": "code",
   "execution_count": null,
   "metadata": {},
   "outputs": [],
   "source": [
    "df_comp.sort_values(by=[\"geneID\"]).to_csv(ROOT_dir + \"/reports/map_test_m0gtr.csv\",sep=\"\\t\")"
   ]
  },
  {
   "cell_type": "code",
   "execution_count": null,
   "metadata": {},
   "outputs": [],
   "source": [
    "np.sum(df_comp[\"CpGRate_comp\"] > 0.95)"
   ]
  },
  {
   "cell_type": "code",
   "execution_count": null,
   "metadata": {},
   "outputs": [],
   "source": [
    "(np.sum(df_comp[\"CpGRate_comp\"] > 0.95) / 137) . round(2)"
   ]
  },
  {
   "cell_type": "code",
   "execution_count": null,
   "metadata": {},
   "outputs": [],
   "source": [
    "dict_of_stats_ = {}\n",
    "k=0\n",
    "for geneID in list_of_geneID_emp:\n",
    "    test = df_comp.loc[(df_comp[\"geneID\"]== geneID),\"CpGRate_comp\"]\n",
    "    CpGRate_pvalue = (np.sum(test > 0.95))/test.shape[0]\n",
    "    dict_of_stats_[k] = {\n",
    "        \"geneID\": geneID,\n",
    "        \"pvalue\": CpGRate_pvalue,\n",
    "    }\n",
    "    k +=1\n",
    "pd.DataFrame.from_dict(data=dict_of_stats_,orient=\"index\")"
   ]
  },
  {
   "cell_type": "markdown",
   "metadata": {},
   "source": [
    "### Simulation\n"
   ]
  },
  {
   "cell_type": "code",
   "execution_count": null,
   "metadata": {},
   "outputs": [],
   "source": [
    "def recover_data(input_dir, pattern)-> List[pd.DataFrame]:\n",
    "    list_of_df: List[pd.DataFrame] = []\n",
    "    list_of_files: List[str] = glob.glob(input_dir + pattern)\n",
    "    for f in list_of_files:\n",
    "        # WDR91-M0GTR-0.2-1-1-1-0-A.TsCpGRate\n",
    "        GENEID = f.split(\"/\")[-1].split(\"-\")[0]\n",
    "        OMEGA = float(f.split(\"/\")[-1].split(\"-\")[2])\n",
    "        CPG = float(f.split(\"/\")[-1].split(\"-\")[3])\n",
    "        TPA = float(f.split(\"/\")[-1].split(\"-\")[4])\n",
    "        TBL = float(f.split(\"/\")[-1].split(\"-\")[5])\n",
    "        DRAWID = int(f.split(\"/\")[-1].split(\"-\")[6])\n",
    "        df: pd.DataFrame = pd.read_csv(f, sep=\"\\t\")\n",
    "        df[\"geneID\"] = [GENEID]*df.shape[0]\n",
    "        df[\"omega\"] = [OMEGA]*df.shape[0]\n",
    "        df[\"CpG\"] = [CPG]*df.shape[0]\n",
    "        df[\"TpA\"] = [TPA]*df.shape[0]\n",
    "        df[\"tbl\"] = [TBL]*df.shape[0]\n",
    "        df[\"drawID\"] = [DRAWID]*df.shape[0]\n",
    "        list_of_df += [df]\n",
    "    return pd.concat(list_of_df,ignore_index=True)"
   ]
  },
  {
   "cell_type": "markdown",
   "metadata": {},
   "source": [
    "#### GTR+G"
   ]
  },
  {
   "cell_type": "code",
   "execution_count": null,
   "metadata": {},
   "outputs": [],
   "source": [
    "input_dir = ROOT_dir + \"/outputs/simulation/m0gtr/pbmpi_gtrg4/\"\n",
    "pattern = \"*-A.TsCpGRate\"\n",
    "df_concat_gtrg4 = recover_data(input_dir=input_dir,pattern=pattern)\n",
    "df_concat_gtrg4 = df_concat_gtrg4.loc[(df_concat_gtrg4[\"TpA\"]==1)]#&(df_concat_gtrg4[\"CpG\"]==1)&(df_concat_gtrg4[\"tbl\"]==1)"
   ]
  },
  {
   "cell_type": "code",
   "execution_count": null,
   "metadata": {},
   "outputs": [],
   "source": [
    "set(df_concat_gtrg4.geneID)"
   ]
  },
  {
   "cell_type": "code",
   "execution_count": null,
   "metadata": {},
   "outputs": [],
   "source": [
    "df_concat_gtrg4[\"CpGRate\"] = (df_concat_gtrg4[\"CG>TG\"]+df_concat_gtrg4[\"CG>CA\"])/df_concat_gtrg4[\"CG\"]\n",
    "df_concat_gtrg4[\"TpARate\"] = (df_concat_gtrg4[\"TA>CA\"]+df_concat_gtrg4[\"TA>TG\"])/df_concat_gtrg4[\"TA\"]\n",
    "df_concat_gtrg4.groupby([\"geneID\",\"drawID\",\"omega\",\"CpG\",\"TpA\",\"tbl\",\"type\"]).agg([np.mean,np.std])[[\"CpGRate\",\"TpARate\",\"CG>TG\",\"CG>CA\",\"CG\",\"TA>CA\",\"TA>TG\",\"TA\"]].round(2)"
   ]
  },
  {
   "cell_type": "code",
   "execution_count": null,
   "metadata": {},
   "outputs": [],
   "source": [
    "df_concat_gtrg4.groupby([\"geneID\",\"omega\",\"CpG\",\"TpA\",\"tbl\",\"type\"]).agg([\"count\"]).to_csv(ROOT_dir + \"/reports/ALLO.csv\",sep=\"\\t\")"
   ]
  },
  {
   "cell_type": "code",
   "execution_count": null,
   "metadata": {},
   "outputs": [],
   "source": [
    "dict_of_stats = {}\n",
    "k = 0\n",
    "rowiter = iter(df_concat_gtrg4.iterrows())\n",
    "while ((row_post := next(rowiter, None)) is not None):\n",
    "    row_pred = next(rowiter)\n",
    "    dict_of_stats[k] = {\n",
    "        \"CpGRate_post\": row_post[1][\"CpGRate\"],\n",
    "        \"CpGRate_pred\": row_pred[1][\"CpGRate\"],\n",
    "        \"CpGRate_comp\": row_post[1][\"CpGRate\"]>row_pred[1][\"CpGRate\"],\n",
    "        \"TpARate_post\": row_post[1][\"TpARate\"], \n",
    "        \"TpARate_pred\": row_pred[1][\"TpARate\"],\n",
    "        \"TpARate_comp\": row_post[1][\"TpARate\"]>row_pred[1][\"TpARate\"],\n",
    "        \"mcmcID\": row_post[1][\"mcmcID\"],\n",
    "        \"geneID\": row_post[1][\"geneID\"],\n",
    "        \"omega\" : row_post[1][\"omega\"],\n",
    "        \"CpG\" : row_post[1][\"CpG\"],\n",
    "        \"TpA\" : row_post[1][\"TpA\"],\n",
    "        \"tbl\" : row_post[1][\"tbl\"],\n",
    "        \"drawID\": row_post[1][\"drawID\"], \n",
    "    }\n",
    "    k+=1"
   ]
  },
  {
   "cell_type": "code",
   "execution_count": null,
   "metadata": {},
   "outputs": [],
   "source": [
    "df_TsCpGRate = pd.DataFrame.from_dict(data=dict_of_stats,orient=\"index\")\n",
    "df_comp = df_TsCpGRate.groupby([\"geneID\",\"drawID\",\"omega\",\"CpG\",\"TpA\",\"tbl\"])[[\"CpGRate_comp\",\"TpARate_comp\"]]\\\n",
    "    .agg([np.mean]).droplevel(level=1,axis=1).reset_index()"
   ]
  },
  {
   "cell_type": "code",
   "execution_count": null,
   "metadata": {},
   "outputs": [],
   "source": [
    "df_comp.sort_values(by=[\"geneID\",\"omega\",\"CpG\",\"TpA\",\"tbl\"]).to_csv(ROOT_dir + \"/reports/map_test_m0gtr_gtrg4.csv\",sep=\"\\t\")"
   ]
  },
  {
   "cell_type": "code",
   "execution_count": null,
   "metadata": {},
   "outputs": [],
   "source": [
    "df_comp.groupby(by=[\"CpG\",\"TpA\",\"omega\",\"tbl\"])[[\"CpGRate_comp\"]].agg([sign,\"count\"])"
   ]
  },
  {
   "cell_type": "code",
   "execution_count": null,
   "metadata": {},
   "outputs": [],
   "source": [
    "dict_of_stats_ = {}\n",
    "k=0\n",
    "for geneID in list_of_geneID_simu:\n",
    "    for omega in [0.2,1]:\n",
    "        for CpG in [1,4,8]:\n",
    "            for TpA in [1,]:#\n",
    "                for tbl in [1,10]:#,2,5,10\n",
    "                    test = df_comp.loc[(df_comp[\"geneID\"]== geneID)&(df_comp[\"CpG\"]== CpG)&(df_comp[\"TpA\"]== TpA)&(df_comp[\"tbl\"]== tbl)&(df_comp[\"omega\"]== omega),\"CpGRate_comp\"]\n",
    "                    CpGRate_pvalue = (np.sum(test > 0.95))/test.shape[0]\n",
    "                    dict_of_stats_[k] = {\n",
    "                        \"geneID\": geneID,\n",
    "                        \"CpG\": CpG,\n",
    "                        \"TpA\": TpA,\n",
    "                        \"tbl\": tbl,\n",
    "                        \"omega\":omega,\n",
    "                        \"pvalue\": CpGRate_pvalue,\n",
    "                    }\n",
    "                    k +=1\n",
    "                        \n",
    "pd.DataFrame.from_dict(data=dict_of_stats_,orient=\"index\").groupby(by=[\"omega\",\"CpG\",\"TpA\",\"tbl\"]).agg([np.mean])"
   ]
  },
  {
   "attachments": {},
   "cell_type": "markdown",
   "metadata": {},
   "source": [
    "#### M0GTR"
   ]
  },
  {
   "cell_type": "code",
   "execution_count": null,
   "metadata": {},
   "outputs": [],
   "source": [
    "input_dir = ROOT_dir + \"/outputs/simulation/m0gtr/pbmpi_m0gtr_/\"\n",
    "pattern = \"*-M0GTR-*A.TsCpGRate\"\n",
    "df_concat_m0gtr = recover_data(input_dir=input_dir,pattern=pattern)\n",
    "df_concat_m0gtr = df_concat_m0gtr.loc[(df_concat_m0gtr[\"TpA\"]==1)]#&(df_concat_gtrg4[\"tbl\"]==1)\n",
    "df_concat_m0gtr[\"CpGRate\"] = df_concat_m0gtr[\"NSubSynTsCpG23\"]/df_concat_m0gtr[\"TcodonNCG\"]\n",
    "df_concat_m0gtr[\"TpARate\"] = df_concat_m0gtr[\"NSubSynTsTpA23\"]/df_concat_m0gtr[\"TcodonNTA\"]\n",
    "df_concat_m0gtr.drop(\"geneID\",axis=1).groupby([\"omega\",\"CpG\",\"TpA\",\"tbl\",\"type\"]).agg([np.mean,])[[\"TcodonNCG\",\"NSubSynTsCpG23\",\"TcodonNTA\",\"NSubSynTsTpA23\",\"CpGRate\",\"TpARate\",\"NSub\",\"NNSynSyb\",\"NSynSub\"]].round(2)"
   ]
  },
  {
   "cell_type": "code",
   "execution_count": null,
   "metadata": {},
   "outputs": [],
   "source": [
    "df_concat_m0gtr.groupby([\"omega\",\"CpG\",\"TpA\",\"tbl\",\"type\"]).agg([\"count\"])#.to_csv(ROOT_dir + \"/reports/ALLO_.csv\",sep=\"\\t\")"
   ]
  },
  {
   "cell_type": "code",
   "execution_count": null,
   "metadata": {},
   "outputs": [],
   "source": [
    "dict_of_stats = {}\n",
    "k = 0\n",
    "rowiter = iter(df_concat_m0gtr.iterrows())\n",
    "while ((row_post := next(rowiter, None)) is not None):\n",
    "    try:\n",
    "        row_pred = next(rowiter)\n",
    "    except Exception as e:\n",
    "        print(e,row_post[0])\n",
    "    dict_of_stats[k] = {\n",
    "        \"CpGRate_post\": row_post[1][\"CpGRate\"],\n",
    "        \"CpGRate_pred\": row_pred[1][\"CpGRate\"],\n",
    "        \"CpGRate_comp\": row_post[1][\"CpGRate\"]>row_pred[1][\"CpGRate\"],\n",
    "        \"TpARate_post\": row_post[1][\"TpARate\"], \n",
    "        \"TpARate_pred\": row_pred[1][\"TpARate\"],\n",
    "        \"TpARate_comp\": row_post[1][\"TpARate\"]>row_pred[1][\"TpARate\"],\n",
    "        \"mcmcID\": row_post[1][\"mcmcID\"],\n",
    "        \"geneID\": row_post[1][\"geneID\"],\n",
    "        \"omega\" : row_post[1][\"omega\"],\n",
    "        \"CpG\" : row_post[1][\"CpG\"],\n",
    "        \"TpA\" : row_post[1][\"TpA\"],\n",
    "        \"tbl\" : row_post[1][\"tbl\"],\n",
    "        \"drawID\": row_post[1][\"drawID\"], \n",
    "    }\n",
    "    k+=1"
   ]
  },
  {
   "cell_type": "code",
   "execution_count": null,
   "metadata": {},
   "outputs": [],
   "source": [
    "pd.DataFrame.from_dict(data=dict_of_stats,orient=\"index\")\\\n",
    "    .groupby([\"drawID\",\"omega\",\"CpG\",\"TpA\",\"tbl\"])[[\"CpGRate_comp\",\"TpARate_comp\"]]\\\n",
    "        .agg([np.mean])\\\n",
    "            .to_csv(ROOT_dir + \"/reports/CpGRate_comp.csv\",sep=\"\\t\")"
   ]
  },
  {
   "cell_type": "code",
   "execution_count": null,
   "metadata": {},
   "outputs": [],
   "source": [
    "df_comp = pd.DataFrame.from_dict(data=dict_of_stats,orient=\"index\")\\\n",
    "    .groupby([\"geneID\",\"drawID\",\"omega\",\"CpG\",\"TpA\",\"tbl\"])[[\"CpGRate_comp\",\"TpARate_comp\"]]\\\n",
    "        .agg([np.mean]).droplevel(level=1,axis=1).reset_index()"
   ]
  },
  {
   "cell_type": "code",
   "execution_count": null,
   "metadata": {},
   "outputs": [],
   "source": [
    "df_comp.sort_values(by=[\"geneID\",\"omega\",\"CpG\",\"TpA\",\"tbl\"])"
   ]
  },
  {
   "cell_type": "code",
   "execution_count": null,
   "metadata": {},
   "outputs": [],
   "source": [
    "dict_of_stats_ = {}\n",
    "k=0\n",
    "for geneID in list_of_geneID_simu:\n",
    "    for omega in [0.2,1]:\n",
    "        for CpG in [1,4,8]:\n",
    "            for TpA in [1,]:#\n",
    "                for tbl in [1,10]:#,2,5,10\n",
    "                    #(df_comp[\"geneID\"]== geneID)&\n",
    "                    test = df_comp.loc[(df_comp[\"geneID\"]== geneID)&(df_comp[\"CpG\"]== CpG)&(df_comp[\"TpA\"]== TpA)&(df_comp[\"tbl\"]== tbl)&(df_comp[\"omega\"]== omega),\"CpGRate_comp\"]\n",
    "                    CpGRate_pvalue = (np.sum(test > 0.95))/test.shape[0]\n",
    "                    dict_of_stats_[k] = {\n",
    "                        \"geneID\": geneID,\n",
    "                        \"CpG\": CpG,\n",
    "                        \"TpA\": TpA,\n",
    "                        \"tbl\": tbl,\n",
    "                        \"omega\":omega,\n",
    "                        \"pvalue\": CpGRate_pvalue,\n",
    "                    }\n",
    "                    k +=1\n",
    "                        \n"
   ]
  },
  {
   "cell_type": "code",
   "execution_count": null,
   "metadata": {},
   "outputs": [],
   "source": [
    "df_comp.groupby(by=[\"CpG\",\"TpA\",\"omega\",\"tbl\"])[[\"CpGRate_comp\"]].agg([sign,\"count\"])"
   ]
  },
  {
   "cell_type": "code",
   "execution_count": null,
   "metadata": {},
   "outputs": [],
   "source": [
    "                        \n",
    "df_comp.loc[(df_comp[\"geneID\"]== geneID)&(df_comp[\"CpG\"]== CpG)&(df_comp[\"TpA\"]== TpA)&(df_comp[\"tbl\"]== tbl)&(df_comp[\"omega\"]== omega),[]]"
   ]
  },
  {
   "cell_type": "code",
   "execution_count": null,
   "metadata": {},
   "outputs": [],
   "source": [
    "pd.DataFrame.from_dict(data=dict_of_stats_,orient=\"index\").groupby(by=[\"CpG\",\"omega\",\"TpA\",\"tbl\"]).agg(np.mean)"
   ]
  },
  {
   "cell_type": "code",
   "execution_count": null,
   "metadata": {},
   "outputs": [],
   "source": []
  },
  {
   "cell_type": "code",
   "execution_count": null,
   "metadata": {},
   "outputs": [],
   "source": []
  }
 ],
 "metadata": {
  "kernelspec": {
   "display_name": "Python 3.9.7 ('mapping_brief')",
   "language": "python",
   "name": "python3"
  },
  "language_info": {
   "codemirror_mode": {
    "name": "ipython",
    "version": 3
   },
   "file_extension": ".py",
   "mimetype": "text/x-python",
   "name": "python",
   "nbconvert_exporter": "python",
   "pygments_lexer": "ipython3",
   "version": "3.9.7"
  },
  "vscode": {
   "interpreter": {
    "hash": "60642ef1cd9c301212d101731bcc51521a8960ea58648c739c21b605aa3e7cc6"
   }
  }
 },
 "nbformat": 4,
 "nbformat_minor": 2
}
