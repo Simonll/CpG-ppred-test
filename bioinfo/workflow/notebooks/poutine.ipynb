{
 "cells": [
  {
   "cell_type": "code",
   "execution_count": null,
   "metadata": {},
   "outputs": [],
   "source": [
    "!which python"
   ]
  },
  {
   "cell_type": "code",
   "execution_count": null,
   "metadata": {},
   "outputs": [],
   "source": [
    "%load_ext autoreload\n",
    "%autoreload 2\n",
    "from IPython.core.interactiveshell import InteractiveShell"
   ]
  },
  {
   "cell_type": "code",
   "execution_count": null,
   "metadata": {},
   "outputs": [],
   "source": [
    "# basic packages\n",
    "import os\n",
    "import re\n",
    "import sys\n",
    "import datetime\n",
    "from typing import List, Dict, Tuple, Optional, Any\n",
    "from itertools import combinations\n",
    "from pathlib import Path\n",
    "import glob\n",
    "#import yaml\n",
    "import tqdm\n",
    "import multiprocessing as mp\n",
    "from itertools import combinations, product"
   ]
  },
  {
   "cell_type": "code",
   "execution_count": null,
   "metadata": {},
   "outputs": [],
   "source": [
    "# data science\n",
    "import pandas as pd\n",
    "import numpy as np\n",
    "import matplotlib.pyplot as plt"
   ]
  },
  {
   "cell_type": "code",
   "execution_count": null,
   "metadata": {},
   "outputs": [],
   "source": [
    "# bioinformatics\n",
    "import pandas as pd\n",
    "from Bio.Seq import MutableSeq\n",
    "from Bio import SeqIO\n",
    "from Bio.SeqRecord import SeqRecord\n",
    "from Bio.Align import MultipleSeqAlignment\n",
    "from bintools.utils.utils import get_yaml_config\n",
    "from bintools.phylobayes import gtr_parser"
   ]
  },
  {
   "cell_type": "code",
   "execution_count": null,
   "metadata": {},
   "outputs": [],
   "source": [
    "ROOT_dir = Path(os.path.abspath(os.path.join(Path(\"../\")))).__str__()\n",
    "if ROOT_dir not in sys.path:\n",
    "    sys.path.append(ROOT_dir)"
   ]
  },
  {
   "cell_type": "code",
   "execution_count": null,
   "metadata": {},
   "outputs": [],
   "source": [
    "from scripts.generate_GTR_values import wrapper"
   ]
  },
  {
   "cell_type": "code",
   "execution_count": null,
   "metadata": {},
   "outputs": [],
   "source": [
    "wrapper(phylip=ROOT_dir+\"/outputs/simulation/gtr/data/WDR91.phylip\", mcmc=ROOT_dir+\"/outputs/simulation/gtr/pbmpi_gtr/WDR91-GTR-A.chain\", burnin=10, output=ROOT_dir+\"/outputs/simulation/gtr/a\")"
   ]
  },
  {
   "cell_type": "code",
   "execution_count": null,
   "metadata": {},
   "outputs": [],
   "source": []
  },
  {
   "cell_type": "code",
   "execution_count": null,
   "metadata": {},
   "outputs": [],
   "source": [
    "from ete3 import Tree\n"
   ]
  },
  {
   "cell_type": "code",
   "execution_count": null,
   "metadata": {},
   "outputs": [],
   "source": [
    "t = Tree(ROOT_dir + \"/outputs/empirical/pbmpi_gtrg4/BACE1-GTRG4-A.reftreemap\",format=1)"
   ]
  },
  {
   "cell_type": "code",
   "execution_count": null,
   "metadata": {},
   "outputs": [],
   "source": [
    "dict_of_nodes = {\"external\": set(), \"internal\": set()}\n",
    "dict_of_nodes"
   ]
  },
  {
   "cell_type": "code",
   "execution_count": null,
   "metadata": {},
   "outputs": [],
   "source": [
    "for n in t.traverse():\n",
    "    if n.is_leaf():\n",
    "        dict_of_nodes[\"external\"].add(n.name.split(\"_\")[-1])\n",
    "        print(n.name,end=\" \")\n",
    "    else:\n",
    "        dict_of_nodes[\"internal\"].add(n.name)"
   ]
  },
  {
   "cell_type": "code",
   "execution_count": null,
   "metadata": {},
   "outputs": [],
   "source": [
    "dict_of_nodes[\"external\"]"
   ]
  },
  {
   "cell_type": "code",
   "execution_count": null,
   "metadata": {},
   "outputs": [],
   "source": [
    "dict_of_nodes[\"external\"]"
   ]
  },
  {
   "cell_type": "code",
   "execution_count": null,
   "metadata": {},
   "outputs": [],
   "source": [
    "from zipfile import ZipFile\n",
    "from bintools.align.align import read_phylip\n"
   ]
  },
  {
   "cell_type": "code",
   "execution_count": null,
   "metadata": {},
   "outputs": [],
   "source": [
    "with ZipFile(ROOT_dir+\"/outputs/empirical/ppred_test/readpb_gtrg4/EDEM2-GTRG4-A_ppred.zip\", \"r\") as zarch:\n",
    "    for f in zarch.namelist():\n",
    "        with zarch.open(f) as fh:\n",
    "            lines: List[str] = fh.readlines()\n",
    "            n_taxa, n_site = lines[0].split()\n",
    "            dict_of_seq: Dict[str, Dict[int, str]] = {}\n",
    "            for l in range(1, len(lines)):\n",
    "                print(lines[l])\n",
    "                sp_name, seq = lines[l].split()\n",
    "                dict_of_seq[sp_name.strip()] = {i: j for i, j in enumerate(list(seq.strip()))}"
   ]
  },
  {
   "cell_type": "code",
   "execution_count": null,
   "metadata": {},
   "outputs": [],
   "source": []
  }
 ],
 "metadata": {
  "interpreter": {
   "hash": "60642ef1cd9c301212d101731bcc51521a8960ea58648c739c21b605aa3e7cc6"
  },
  "kernelspec": {
   "display_name": "Python 3.9.7 ('mapping_brief')",
   "language": "python",
   "name": "python3"
  },
  "language_info": {
   "codemirror_mode": {
    "name": "ipython",
    "version": 3
   },
   "file_extension": ".py",
   "mimetype": "text/x-python",
   "name": "python",
   "nbconvert_exporter": "python",
   "pygments_lexer": "ipython3",
   "version": "3.9.7"
  }
 },
 "nbformat": 4,
 "nbformat_minor": 2
}
