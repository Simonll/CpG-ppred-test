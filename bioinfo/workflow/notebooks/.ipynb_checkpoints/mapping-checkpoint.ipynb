{
 "cells": [
  {
   "cell_type": "code",
   "execution_count": null,
   "metadata": {},
   "outputs": [],
   "source": [
    "!which python"
   ]
  },
  {
   "cell_type": "code",
   "execution_count": null,
   "metadata": {},
   "outputs": [],
   "source": [
    "%load_ext autoreload\n",
    "%autoreload 2\n",
    "from IPython.core.interactiveshell import InteractiveShell"
   ]
  },
  {
   "cell_type": "code",
   "execution_count": null,
   "metadata": {},
   "outputs": [],
   "source": [
    "# basic packages\n",
    "import os\n",
    "import re\n",
    "import sys\n",
    "import datetime\n",
    "from typing import List, Dict, Tuple, Optional, Any\n",
    "from itertools import combinations\n",
    "from pathlib import Path\n",
    "import glob\n",
    "#import yaml\n",
    "import tqdm\n",
    "import multiprocessing as mp\n",
    "from itertools import combinations, product"
   ]
  },
  {
   "cell_type": "code",
   "execution_count": null,
   "metadata": {},
   "outputs": [],
   "source": [
    "# data science\n",
    "import pandas as pd\n",
    "import numpy as np\n",
    "import matplotlib.pyplot as plt"
   ]
  },
  {
   "cell_type": "code",
   "execution_count": null,
   "metadata": {},
   "outputs": [],
   "source": [
    "# bioinformatics\n",
    "import pandas as pd\n",
    "from Bio.Seq import MutableSeq\n",
    "from Bio import SeqIO\n",
    "from Bio.SeqRecord import SeqRecord\n",
    "from Bio.Align import MultipleSeqAlignment\n",
    "from bintools.utils.utils import get_yaml_config"
   ]
  },
  {
   "cell_type": "code",
   "execution_count": null,
   "metadata": {},
   "outputs": [],
   "source": [
    "ROOT_dir = Path(os.path.abspath(os.path.join(Path(\"../\")))).__str__()\n",
    "if ROOT_dir not in sys.path:\n",
    "    sys.path.append(ROOT_dir)"
   ]
  },
  {
   "cell_type": "code",
   "execution_count": null,
   "metadata": {},
   "outputs": [],
   "source": [
    "%%latex\n",
    "$(\\frac{\\rho_{CpG>TpG} + \\rho_{CpG>CpA}}{\\phi_{CpG}} > 1)> 0.95,$"
   ]
  },
  {
   "cell_type": "code",
   "execution_count": null,
   "metadata": {},
   "outputs": [],
   "source": [
    "%%latex\n",
    "Tests can be designed with the use of sufficient summary statistics describing the subtitution process targeted, for example CpG substitution rate. The substitution rate can be computed following this equation:\n",
    "\n",
    "$\\frac{\\rho_{CpG>TpG} + \\rho_{CpG>CpA}}{\\phi_{CpG}},$\n",
    "\n",
    "where, $\\rho_{CpG>TpG}$ and $\\rho_{CpG>CpA}$ are the number of transitions, divided by the time passed in $CpG$ dinucleotide, $\\phi_{CpG}$, over the whole alignment. "
   ]
  },
  {
   "cell_type": "code",
   "execution_count": null,
   "metadata": {},
   "outputs": [],
   "source": [
    "list_of_geneID: List[str] = get_yaml_config(ROOT_dir.__str__()+\"/configs/configs.yaml\")[\"empirical\"][\"geneID\"]\n",
    "#list_of_geneID: List[str] = get_yaml_config(ROOT_dir.__str__()+\"/configs/configs.yaml\")[\"empirical\"][\"10longest\"]"
   ]
  },
  {
   "cell_type": "code",
   "execution_count": null,
   "metadata": {},
   "outputs": [],
   "source": [
    "[i[0] for i in sorted(list(get_yaml_config(ROOT_dir.__str__()+\"/configs/configs.yaml\")[\"Nsites\"].items()), key=lambda x: x[1], reverse=True)[0:10]]"
   ]
  },
  {
   "cell_type": "code",
   "execution_count": null,
   "metadata": {},
   "outputs": [],
   "source": [
    "list_of_df:List[pd.DataFrame] = []\n",
    "for g in list_of_geneID:\n",
    "    if os.path.exists(\"/mnt/disk2/sll/mappings_brief_note/bioinfo/workflow/outputs/empirical/stats/\"+g+\"-GTRG4-A-two_sites-SUB.pickle\"):\n",
    "        f_N:str = \"/mnt/disk2/sll/mappings_brief_note/bioinfo/workflow/outputs/empirical/stats/\"+g+\"-GTRG4-A-two_sites-SUB.pickle\"\n",
    "        f_T: str = \"/mnt/disk2/sll/mappings_brief_note/bioinfo/workflow/outputs/empirical/stats/\"+g+\"-GTRG4-A-two_sites-TIME.pickle\"\n",
    "        df_N: pd.DataFrame = pd.read_pickle(f_N,compression=\"bz2\")\n",
    "        df_T: pd.DataFrame = pd.read_pickle(f_T,compression=\"bz2\")\n",
    "        cur_df:pd.DataFrame = pd.DataFrame()\n",
    "        cur_df[\"CpG\"] = (df_N[\"CG>TG\"]+df_N[\"CG>CA\"]) / df_T[\"CG\"]\n",
    "        cur_df[\"geneID\"] = [g]*cur_df.shape[0]\n",
    "        list_of_df+= [cur_df]"
   ]
  },
  {
   "cell_type": "code",
   "execution_count": null,
   "metadata": {},
   "outputs": [],
   "source": [
    "pd.concat(list_of_df, ignore_index=True, axis=0).groupby(by=\"geneID\").mean().hist()\n",
    "plt.xlabel(r\"$\\hat{\\lambda}$\")\n",
    "plt.ylabel(\"count\")\n",
    "plt.axvline(1,c=\"black\")\n",
    "plt.axvline(np.mean(pd.concat(list_of_df, ignore_index=True, axis=0).groupby(by=\"geneID\").median().CpG),c=\"red\")"
   ]
  },
  {
   "cell_type": "code",
   "execution_count": null,
   "metadata": {},
   "outputs": [],
   "source": [
    "np.sum(pd.concat(list_of_df, ignore_index=True, axis=0).groupby(by=\"geneID\").median().CpG > 1 )"
   ]
  },
  {
   "cell_type": "code",
   "execution_count": null,
   "metadata": {},
   "outputs": [],
   "source": [
    "pd.concat(list_of_df, ignore_index=True, axis=0).groupby(by=\"geneID\").boxplot(subplots=False,figsize=(20,4),rot=45, fontsize=8)\n",
    "plt.ylabel(r\"$\\lambda$\")\n",
    "plt.xticks([])\n",
    "plt.xlabel(\"137 mammalian genes\")"
   ]
  },
  {
   "cell_type": "code",
   "execution_count": null,
   "metadata": {},
   "outputs": [],
   "source": [
    "df_concat_empirical = pd.concat(list_of_df, ignore_index=True, axis=0)"
   ]
  },
  {
   "cell_type": "code",
   "execution_count": null,
   "metadata": {},
   "outputs": [],
   "source": [
    "under = df_concat_empirical.loc[df_concat_empirical[\"geneID\"] == \"YTHDF2\"][\"CpG\"]"
   ]
  },
  {
   "cell_type": "code",
   "execution_count": null,
   "metadata": {},
   "outputs": [],
   "source": [
    "np.sum(under >  1 )/under.shape[0]"
   ]
  },
  {
   "cell_type": "code",
   "execution_count": null,
   "metadata": {},
   "outputs": [],
   "source": [
    "np.sum(over >  1 )/over.shape[0]"
   ]
  },
  {
   "cell_type": "code",
   "execution_count": null,
   "metadata": {},
   "outputs": [],
   "source": [
    "def test_95(x): \n",
    "    return np.sum(x>1) / x.shape[0] > 0.95\n",
    "def test_90(x): \n",
    "    return np.sum(x>1) / x.shape[0] > 0.90\n",
    "def test_85(x): \n",
    "    return np.sum(x>1) / x.shape[0] > 0.85\n",
    "def test_80(x): \n",
    "    return np.sum(x>1) / x.shape[0] > 0.80\n",
    "def test_75(x): \n",
    "    return np.sum(x>1) / x.shape[0] > 0.75\n",
    "def test_70(x): \n",
    "    return np.sum(x>1) / x.shape[0] > 0.70\n",
    "def test_60(x): \n",
    "    return np.sum(x>1) / x.shape[0] > 0.60\n",
    "def test_50(x): \n",
    "    return np.sum(x>1) / x.shape[0] > 0.50"
   ]
  },
  {
   "cell_type": "code",
   "execution_count": null,
   "metadata": {},
   "outputs": [],
   "source": [
    "np.sum(df_concat_empirical.groupby(by=\"geneID\").agg([test_95,test_85,test_75]))"
   ]
  },
  {
   "cell_type": "code",
   "execution_count": null,
   "metadata": {},
   "outputs": [],
   "source": [
    "def p_signif(x): \n",
    "    return np.sum(x)/len(x)"
   ]
  },
  {
   "cell_type": "code",
   "execution_count": null,
   "metadata": {},
   "outputs": [],
   "source": [
    "list_of_df:List[pd.DataFrame] = []\n",
    "for g in get_yaml_config(ROOT_dir.__str__()+\"/configs/configs.yaml\")[\"simulation\"][\"geneID\"]:\n",
    "    for omega in [\"0.2\",\"1.0\"]:#,]:\n",
    "        for CpG in [\"1\",\"8\"]:\n",
    "            for rep in [str(i) for i in range(10)]:\n",
    "                if (os.path.exists(\"/mnt/disk2/sll/mappings_brief_note/bioinfo/workflow/outputs/simulation/m0gtr/stats/\"+g+\"-GTRG4-\"+omega+\"-\"+CpG+\"-\"+rep+\"-A-two_sites-SUB.pickle\")):\n",
    "                    f_N:str = \"/mnt/disk2/sll/mappings_brief_note/bioinfo/workflow/outputs/simulation/m0gtr/stats/\"+g+\"-GTRG4-\"+omega+\"-\"+CpG+\"-\"+rep+\"-A-two_sites-SUB.pickle\"\n",
    "                    f_T:str = \"/mnt/disk2/sll/mappings_brief_note/bioinfo/workflow/outputs/simulation/m0gtr/stats/\"+g+\"-GTRG4-\"+omega+\"-\"+CpG+\"-\"+rep+\"-A-two_sites-TIME.pickle\"\n",
    "                    df_N:pd.DataFrame = pd.read_pickle(f_N,compression=\"bz2\")\n",
    "                    df_T:pd.DataFrame = pd.read_pickle(f_T,compression=\"bz2\")\n",
    "                    cur_df:pd.DataFrame = pd.DataFrame()\n",
    "                    cur_df[\"lambda\"] = (df_N[\"CG>TG\"]+df_N[\"CG>CA\"]) / df_T[\"CG\"]\n",
    "                    cur_df[\"geneID\"] = [g]*cur_df.shape[0]\n",
    "                    cur_df[\"omega\"] = [omega]*cur_df.shape[0]\n",
    "                    cur_df[\"CpG\"] = [CpG]*cur_df.shape[0]\n",
    "                    cur_df[\"rep\"] = [rep]*cur_df.shape[0]\n",
    "                    list_of_df+= [cur_df]\n",
    "                    # print(g,np.sum(((df_N[\"CG>TG\"]+df_N[\"CG>CA\"]) / df_T[\"CG\"]) > 1)/ df_N.shape[0])\n",
    "                    # print(g,np.sum(((df_N[\"GC>GT\"]+df_N[\"GC>AC\"]) / df_T[\"GC\"]) > 1)/ df_N.shape[0])\n",
    "                    # print(g,np.mean((df_N[\"CG>TG\"]+df_N[\"CG>CA\"]) / df_T[\"CG\"]),np.std((df_N[\"CG>TG\"]+df_N[\"CG>CA\"]) / df_T[\"CG\"]))"
   ]
  },
  {
   "cell_type": "code",
   "execution_count": null,
   "metadata": {},
   "outputs": [],
   "source": [
    "df_concat_simu: pd.DataFrame = pd.concat(list_of_df, ignore_index=True, axis=0)"
   ]
  },
  {
   "cell_type": "code",
   "execution_count": null,
   "metadata": {},
   "outputs": [],
   "source": [
    "output = ROOT_dir + \"/reports/figure1.png\"\n",
    "fig, axes = plt.subplots(\n",
    "    nrows=2,\n",
    "    ncols=2,\n",
    "    figsize=(6, 4),\n",
    "    sharey=True,\n",
    "    sharex=False,\n",
    "    dpi=80,\n",
    "    facecolor=\"w\",\n",
    "    edgecolor=\"black\",\n",
    ")\n",
    "axes = np.ravel(axes)\n",
    "nbins = 25\n",
    "labels = [\"A\",\"B\",\"C\",\"D\"]\n",
    "\n",
    "### SIMU ###\n",
    "nbins = 25\n",
    "k = 0 \n",
    "under = df_concat_simu.loc[(df_concat_simu[\"omega\"] == \"0.2\")&(df_concat_simu[\"CpG\"] == \"1\")][\"lambda\"]\n",
    "under_ratio = str(round((sum(under > 1)) / under.shape[0], 2))\n",
    "under_weights = np.ones_like(under) / under.shape[0]\n",
    "bins = np.histogram(np.hstack([under]), bins=nbins)[1]\n",
    " \n",
    "axes[k].set_title(labels[k], loc=\"left\")\n",
    "axes[k].hist([under],\n",
    "             bins=bins,\n",
    "             #color=[colorblind8[5]],\n",
    "             alpha=0.5,\n",
    "             stacked=False,\n",
    "             weights=[under_weights],\n",
    "             label=[r\"$\\lambda = 1$\" + under_ratio],\n",
    "             )\n",
    "axes[k].axvline(1,c=\"black\")\n",
    "axes[k].set_xlabel(r\"$\\lambda$\")\n",
    "axes[k].set_ylabel(\"density\")\n",
    "axes[k].set_yticks([])\n",
    "\n",
    "\n",
    "k +=1\n",
    "over = df_concat_simu.loc[(df_concat_simu[\"omega\"] == \"0.2\")&(df_concat_simu[\"CpG\"] == \"8\")][\"lambda\"]\n",
    "over_ratio = str(round((sum(over > 1)) / over.shape[0], 2))\n",
    "over_weights = np.ones_like(over) / over.shape[0]\n",
    "bins = np.histogram(np.hstack([over]), bins=nbins)[1]\n",
    "axes[k].set_title(labels[k], loc=\"left\")\n",
    "axes[k].hist([over],\n",
    "             bins=bins,\n",
    "             #color=[colorblind8[5]],\n",
    "             alpha=0.5,\n",
    "             stacked=False,\n",
    "             weights=[over_weights],\n",
    "             label=[r\"$\\lambda$\" + over_ratio],\n",
    "             )\n",
    "axes[k].axvline(1,c=\"black\")\n",
    "axes[k].set_xlabel(r\"$\\lambda$\")\n",
    "axes[k].set_ylabel(\"density\")\n",
    "axes[k].set_yticks([])\n",
    "\n",
    "### REAL DATA ###\n",
    "\n",
    "under = df_concat_empirical.loc[df_concat_empirical[\"geneID\"] == \"YTHDF2\"][\"CpG\"]\n",
    "under_ratio = str(round((sum(under > 1)) / under.shape[0], 2))\n",
    "under_weights = np.ones_like(under) / under.shape[0]\n",
    "bins = np.histogram(np.hstack([under]), bins=nbins)[1]\n",
    "k +=1\n",
    "axes[k].set_title(labels[k], loc=\"left\")\n",
    "axes[k].hist([under],\n",
    "             bins=bins,\n",
    "             #color=[colorblind8[5]],\n",
    "             alpha=0.5,\n",
    "             stacked=False,\n",
    "             weights=[under_weights],\n",
    "             label=[r\"$\\lambda$\" + under_ratio],\n",
    "             )\n",
    "axes[k].axvline(1,c=\"black\")\n",
    "axes[k].set_xlabel(r\"$\\lambda$\")\n",
    "axes[k].set_ylabel(\"density\")\n",
    "axes[k].set_yticks([])\n",
    "\n",
    "\n",
    "k +=1\n",
    "over = df_concat_empirical.loc[df_concat_empirical[\"geneID\"] == \"ATG13\"][\"CpG\"]\n",
    "over_ratio = str(round((sum(over > 1)) / over.shape[0], 2))\n",
    "over_weights = np.ones_like(over) / over.shape[0]\n",
    "bins = np.histogram(np.hstack([over]), bins=nbins)[1]\n",
    "axes[k].set_title(labels[k], loc=\"left\")\n",
    "axes[k].hist([over],\n",
    "             bins=bins,\n",
    "             #color=[colorblind8[5]],\n",
    "             alpha=0.5,\n",
    "             stacked=False,\n",
    "             weights=[over_weights],\n",
    "             label=[r\"$\\lambda$\" + over_ratio],\n",
    "             )\n",
    "axes[k].axvline(1,c=\"black\")\n",
    "axes[k].set_xlabel(r\"$\\lambda$\")\n",
    "axes[k].set_ylabel(\"density\")\n",
    "axes[k].set_yticks([])\n",
    "\n",
    "\n",
    "\n",
    "\n",
    "\n",
    "fig.subplots_adjust(top=0.99, bottom=0.01, hspace=0.5, wspace=0.25)\n",
    "fig.tight_layout(pad=1, w_pad=1, h_pad=1.0)\n",
    "fig.savefig(\n",
    "    output,\n",
    "    dpi=300,\n",
    "    transparent=False,\n",
    "    bbox_inches=\"tight\",\n",
    ")"
   ]
  },
  {
   "cell_type": "code",
   "execution_count": null,
   "metadata": {},
   "outputs": [],
   "source": [
    "df_concat.groupby(by=[\"CpG\",\"omega\",\"rep\", \"geneID\"])[\"lambda\"].agg([test_95,test_90, test_80, test_70,test_60, test_50, \"count\"]).groupby(by=[\"geneID\",\"rep\", \"CpG\",\"omega\"]).agg([p_signif]).droplevel(level=1,axis=1).groupby(by=[\"geneID\",\"CpG\",\"omega\"]).agg([np.min,np.max,np.sum])\n",
    "#.to_csv(ROOT_dir+\"/reports/simu_test.csv\", sep=\"\\t\")"
   ]
  },
  {
   "cell_type": "code",
   "execution_count": null,
   "metadata": {},
   "outputs": [],
   "source": [
    "df_concat.loc[(df_concat[\"omega\"] == \"0.2\")&(df_concat[\"CpG\"] == \"1\")][\"lambda\"].hist(bins=30)\n",
    "plt.axvline(1,c=\"black\")\n",
    "plt.xlabel(r\"$\\lambda$\")\n",
    "plt.ylabel(\"count\")"
   ]
  },
  {
   "cell_type": "code",
   "execution_count": null,
   "metadata": {},
   "outputs": [],
   "source": [
    "df_concat.loc[(df_concat[\"omega\"] == \"0.2\")&(df_concat[\"CpG\"] == \"8\")][\"lambda\"].hist(bins=30)\n",
    "plt.axvline(1,c=\"black\")\n",
    "plt.xlabel(r\"$\\lambda$\")\n",
    "plt.ylabel(\"count\")"
   ]
  },
  {
   "cell_type": "code",
   "execution_count": null,
   "metadata": {},
   "outputs": [],
   "source": []
  }
 ],
 "metadata": {
  "interpreter": {
   "hash": "d18194bcd01d5a991c5f70bbf12ec3d69388d9b37a3687261188b54215a7852b"
  },
  "kernelspec": {
   "display_name": "Python 3 (ipykernel)",
   "language": "python",
   "name": "python3"
  },
  "language_info": {
   "codemirror_mode": {
    "name": "ipython",
    "version": 3
   },
   "file_extension": ".py",
   "mimetype": "text/x-python",
   "name": "python",
   "nbconvert_exporter": "python",
   "pygments_lexer": "ipython3",
   "version": "3.9.7"
  }
 },
 "nbformat": 4,
 "nbformat_minor": 4
}
